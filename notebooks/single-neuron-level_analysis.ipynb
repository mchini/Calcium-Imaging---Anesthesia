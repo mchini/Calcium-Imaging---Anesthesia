{
 "cells": [
  {
   "cell_type": "markdown",
   "metadata": {},
   "source": [
    "# Single-neuron-level analysis\n",
    "\n",
    "### Analysis pipeline for concatenated recordings"
   ]
  },
  {
   "cell_type": "markdown",
   "metadata": {},
   "source": [
    "*** To save notebook as pdf without code: ***\n",
    "https://stackoverflow.com/questions/34818723/export-notebook-to-pdf-without-code?noredirect=1&lq=1"
   ]
  },
  {
   "cell_type": "code",
   "execution_count": 1,
   "metadata": {},
   "outputs": [],
   "source": [
    "import numpy as np\n",
    "\n",
    "import numpy.ma as ma\n",
    "\n",
    "import matplotlib.pyplot as plt\n",
    "import pandas as pd\n",
    "import seaborn as sns\n",
    "import pickle\n",
    "import os\n",
    "\n",
    "sns.set()\n",
    "sns.set_style(\"whitegrid\")\n",
    "\n",
    "from scipy.signal import medfilt \n",
    "\n",
    "from scipy.stats import skew, kurtosis, zscore\n",
    "\n",
    "from scipy import signal\n",
    "\n",
    "from sklearn.linear_model import LinearRegression, TheilSenRegressor"
   ]
  },
  {
   "cell_type": "code",
   "execution_count": 5,
   "metadata": {},
   "outputs": [
    {
     "name": "stdout",
     "output_type": "stream",
     "text": [
      "Not running on CoLab\n"
     ]
    }
   ],
   "source": [
    "if 'google.colab' in str(get_ipython()):\n",
    "  print('Running on CoLab')\n",
    "  !wget https://raw.githubusercontent.com/mchini/Yang_Chini_et_al/testTransition/notebooks/capipeline.py\n",
    "  !git clone https://github.com/j-friedrich/OASIS.git\n",
    "  !pwd\n",
    "  %cd /content/OASIS/\n",
    "  !pwd\n",
    "  !python setup.py build_ext --inplace\n",
    "  %cd ..\n",
    "  !pwd\n",
    "  from sys import path\n",
    "  path.append(r'/content/OASIS')\n",
    "else:\n",
    "  print('Not running on CoLab')"
   ]
  },
  {
   "cell_type": "code",
   "execution_count": 2,
   "metadata": {},
   "outputs": [
    {
     "name": "stderr",
     "output_type": "stream",
     "text": [
      "/media/andrey/My Passport/OASIS-master/oasis/functions.py:13: UserWarning: Could not find cvxpy. Don't worry, you can still use OASIS, just not the slower interior point methods we compared to in the papers.\n",
      "  warn(\"Could not find cvxpy. Don't worry, you can still use OASIS, \" +\n"
     ]
    }
   ],
   "source": [
    "from capipeline import *"
   ]
  },
  {
   "cell_type": "markdown",
   "metadata": {},
   "source": [
    "# Upload and reprocess data or upload pre-processed data (see below)"
   ]
  },
  {
   "cell_type": "markdown",
   "metadata": {},
   "source": [
    "### Upload data from GIN\n",
    "\n",
    "At the rate 0.5 MB/s, it takes abouts 30 min (1.5 GB of data, one animal, one condition for transition state recordings)"
   ]
  },
  {
   "cell_type": "code",
   "execution_count": 62,
   "metadata": {},
   "outputs": [],
   "source": [
    "# mimic path TS_C_MMF_8237 (transition state, concatenated, MMF, animal 8237)\n",
    "full_path = \"/Anesthesia_CA1/calcium imaging transition state/concatenated/8237/20201105_GCaMP6f_8237_MMF/suite2p/plane0\"\n",
    "from pathlib import Path\n",
    "path = Path('.' + full_path)\n",
    "path.mkdir(parents=True, exist_ok=True)"
   ]
  },
  {
   "cell_type": "code",
   "execution_count": 63,
   "metadata": {},
   "outputs": [
    {
     "name": "stdout",
     "output_type": "stream",
     "text": [
      "/media/andrey/My Passport/GITHUB_REPOS/Yang_Chini_et_al/notebooks/Anesthesia_CA1/calcium imaging transition state/concatenated/8237/20201105_GCaMP6f_8237_MMF/suite2p/plane0\n",
      "--2021-02-22 20:13:22--  https://gin.g-node.org/SW_lab/Anesthesia_CA1/raw/master/calcium%20imaging%20transition%20state/concatenated/8237/20201105_GCaMP6f_8237_MMF/suite2p/plane0/iscell.npy\n",
      "Resolving gin.g-node.org (gin.g-node.org)... 141.84.41.219\n",
      "Connecting to gin.g-node.org (gin.g-node.org)|141.84.41.219|:443... connected.\n",
      "HTTP request sent, awaiting response... 200 OK\n",
      "Length: unspecified [application/octet-stream]\n",
      "Saving to: ‘iscell.npy’\n",
      "\n",
      "iscell.npy              [ <=>                ]  38,08K  --.-KB/s    in 0,02s   \n",
      "\n",
      "2021-02-22 20:13:24 (1,72 MB/s) - ‘iscell.npy’ saved [38992]\n",
      "\n",
      "--2021-02-22 20:13:25--  https://gin.g-node.org/SW_lab/Anesthesia_CA1/raw/master/calcium%20imaging%20transition%20state/concatenated/8237/20201105_GCaMP6f_8237_MMF/suite2p/plane0/stat.npy\n",
      "Resolving gin.g-node.org (gin.g-node.org)... 141.84.41.219\n",
      "Connecting to gin.g-node.org (gin.g-node.org)|141.84.41.219|:443... connected.\n",
      "HTTP request sent, awaiting response... 200 OK\n",
      "Length: unspecified [application/octet-stream]\n",
      "Saving to: ‘stat.npy’\n",
      "\n",
      "stat.npy                [        <=>         ]   5,39M   729KB/s    in 5,4s    \n",
      "\n",
      "2021-02-22 20:13:32 (1016 KB/s) - ‘stat.npy’ saved [5651288]\n",
      "\n",
      "--2021-02-22 20:13:32--  https://gin.g-node.org/SW_lab/Anesthesia_CA1/raw/master/calcium%20imaging%20transition%20state/concatenated/8237/20201105_GCaMP6f_8237_MMF/suite2p/plane0/F.npy\n",
      "Resolving gin.g-node.org (gin.g-node.org)... 141.84.41.219\n",
      "Connecting to gin.g-node.org (gin.g-node.org)|141.84.41.219|:443... connected.\n",
      "HTTP request sent, awaiting response... 200 OK\n",
      "Length: 825860128 (788M) [application/octet-stream]\n",
      "Saving to: ‘F.npy’\n",
      "\n",
      "F.npy               100%[===================>] 787,60M  1,03MB/s    in 8m 7s   \n",
      "\n",
      "2021-02-22 20:21:41 (1,62 MB/s) - ‘F.npy’ saved [825860128/825860128]\n",
      "\n",
      "--2021-02-22 20:21:41--  https://gin.g-node.org/SW_lab/Anesthesia_CA1/raw/master/calcium%20imaging%20transition%20state/concatenated/8237/20201105_GCaMP6f_8237_MMF/suite2p/plane0/Fneu.npy\n",
      "Resolving gin.g-node.org (gin.g-node.org)... 141.84.41.219\n",
      "Connecting to gin.g-node.org (gin.g-node.org)|141.84.41.219|:443... connected.\n",
      "HTTP request sent, awaiting response... 200 OK\n",
      "Length: 825860128 (788M) [application/octet-stream]\n",
      "Saving to: ‘Fneu.npy’\n",
      "\n",
      "Fneu.npy            100%[===================>] 787,60M  1,19MB/s    in 7m 44s  \n",
      "\n",
      "2021-02-22 20:29:27 (1,70 MB/s) - ‘Fneu.npy’ saved [825860128/825860128]\n",
      "\n"
     ]
    }
   ],
   "source": [
    "# download data\n",
    "%cd \"./Anesthesia_CA1/calcium imaging transition state/concatenated/8237/20201105_GCaMP6f_8237_MMF/suite2p/plane0\"\n",
    "download_path = \"https://gin.g-node.org/SW_lab/Anesthesia_CA1/raw/master/calcium%20imaging%20transition%20state/concatenated/8237/20201105_GCaMP6f_8237_MMF/suite2p/plane0/\"\n",
    "files = [\"iscell.npy\",\"stat.npy\",\"F.npy\",\"Fneu.npy\"]\n",
    "for f in files:\n",
    "    link = download_path + f\n",
    "    !wget $link\n",
    "    \n",
    "%cd \"../../../../../../..\"\n",
    "\n",
    "# download meta_data\n",
    "!wget \"https://gin.g-node.org/SW_lab/Anesthesia_CA1/raw/master/meta_data/meta_recordings_transition_state.xlsx\""
   ]
  },
  {
   "cell_type": "markdown",
   "metadata": {},
   "source": [
    "### Setup path and choose animals for the analysis"
   ]
  },
  {
   "cell_type": "code",
   "execution_count": 69,
   "metadata": {},
   "outputs": [
    {
     "name": "stdout",
     "output_type": "stream",
     "text": [
      "Regordings for analysis: [18, 19, 20, 21, 22, 23, 24, 25, 26]\n"
     ]
    }
   ],
   "source": [
    "animals =['TS_C_MMF_8237']\n",
    "\n",
    "database_path = './meta_recordings_transition_state.xlsx'\n",
    "\n",
    "rec = get_recordings_for_animals(animals, database_path)\n",
    "\n",
    "print(\"Recordings for the analysis: \" + str(rec) )"
   ]
  },
  {
   "cell_type": "markdown",
   "metadata": {},
   "source": [
    "### Plot raster plot for the first three recordings "
   ]
  },
  {
   "cell_type": "code",
   "execution_count": 95,
   "metadata": {},
   "outputs": [
    {
     "ename": "NameError",
     "evalue": "name 'j' is not defined",
     "output_type": "error",
     "traceback": [
      "\u001b[0;31m---------------------------------------------------------------------------\u001b[0m",
      "\u001b[0;31mNameError\u001b[0m                                 Traceback (most recent call last)",
      "\u001b[0;32m<ipython-input-95-e15982deeef1>\u001b[0m in \u001b[0;36m<module>\u001b[0;34m\u001b[0m\n\u001b[1;32m      9\u001b[0m \u001b[0;32mfor\u001b[0m \u001b[0mj\u001b[0m \u001b[0;32min\u001b[0m \u001b[0mrange\u001b[0m\u001b[0;34m(\u001b[0m\u001b[0;36m0\u001b[0m\u001b[0;34m,\u001b[0m\u001b[0mnrec_to_plot\u001b[0m\u001b[0;34m)\u001b[0m\u001b[0;34m:\u001b[0m\u001b[0;34m\u001b[0m\u001b[0;34m\u001b[0m\u001b[0m\n\u001b[1;32m     10\u001b[0m \u001b[0;34m\u001b[0m\u001b[0m\n\u001b[0;32m---> 11\u001b[0;31m     \u001b[0mraster\u001b[0m \u001b[0;34m=\u001b[0m \u001b[0mget_raster\u001b[0m\u001b[0;34m(\u001b[0m\u001b[0mstarting_recording\u001b[0m\u001b[0;34m+\u001b[0m\u001b[0mj\u001b[0m\u001b[0;34m,\u001b[0m \u001b[0;36m200\u001b[0m\u001b[0;34m,\u001b[0m \u001b[0mdatabase_path\u001b[0m\u001b[0;34m,\u001b[0m \u001b[0mconcatenation\u001b[0m\u001b[0;34m=\u001b[0m\u001b[0;32mTrue\u001b[0m\u001b[0;34m)\u001b[0m\u001b[0;34m\u001b[0m\u001b[0;34m\u001b[0m\u001b[0m\n\u001b[0m\u001b[1;32m     12\u001b[0m \u001b[0;34m\u001b[0m\u001b[0m\n\u001b[1;32m     13\u001b[0m     \u001b[0maxes\u001b[0m\u001b[0;34m[\u001b[0m\u001b[0;36m0\u001b[0m\u001b[0;34m]\u001b[0m\u001b[0;34m.\u001b[0m\u001b[0mimshow\u001b[0m\u001b[0;34m(\u001b[0m\u001b[0mraster\u001b[0m\u001b[0;34m,\u001b[0m\u001b[0mextent\u001b[0m\u001b[0;34m=\u001b[0m\u001b[0;34m(\u001b[0m\u001b[0;36m0\u001b[0m\u001b[0;34m,\u001b[0m\u001b[0;36m7000\u001b[0m\u001b[0;34m,\u001b[0m\u001b[0;36m0\u001b[0m\u001b[0;34m,\u001b[0m\u001b[0;36m7000\u001b[0m\u001b[0;34m)\u001b[0m\u001b[0;34m,\u001b[0m\u001b[0mcmap\u001b[0m\u001b[0;34m=\u001b[0m\u001b[0;34m'Greys'\u001b[0m\u001b[0;34m,\u001b[0m\u001b[0mvmin\u001b[0m\u001b[0;34m=\u001b[0m\u001b[0;36m0.25\u001b[0m\u001b[0;34m,\u001b[0m\u001b[0mvmax\u001b[0m\u001b[0;34m=\u001b[0m\u001b[0;36m1.0\u001b[0m\u001b[0;34m)\u001b[0m\u001b[0;34m\u001b[0m\u001b[0;34m\u001b[0m\u001b[0m\n",
      "\u001b[0;32m/media/andrey/My Passport/GITHUB_REPOS/Yang_Chini_et_al/notebooks/capipeline.py\u001b[0m in \u001b[0;36mget_raster\u001b[0;34m(starting_recording, n_neurons_max, database_path, concatenation)\u001b[0m\n\u001b[1;32m    475\u001b[0m \u001b[0;32mdef\u001b[0m \u001b[0mget_raster\u001b[0m\u001b[0;34m(\u001b[0m\u001b[0mstarting_recording\u001b[0m\u001b[0;34m,\u001b[0m \u001b[0mn_neurons_max\u001b[0m\u001b[0;34m,\u001b[0m\u001b[0mdatabase_path\u001b[0m\u001b[0;34m,\u001b[0m \u001b[0mconcatenation\u001b[0m\u001b[0;34m)\u001b[0m\u001b[0;34m:\u001b[0m\u001b[0;34m\u001b[0m\u001b[0;34m\u001b[0m\u001b[0m\n\u001b[1;32m    476\u001b[0m \u001b[0;34m\u001b[0m\u001b[0m\n\u001b[0;32m--> 477\u001b[0;31m     \u001b[0mtraces\u001b[0m\u001b[0;34m,\u001b[0m \u001b[0mnpil\u001b[0m\u001b[0;34m,\u001b[0m \u001b[0mnumber_of_neruons\u001b[0m \u001b[0;34m=\u001b[0m \u001b[0mtraces_and_npils\u001b[0m\u001b[0;34m(\u001b[0m\u001b[0mstarting_recording\u001b[0m\u001b[0;34m,\u001b[0m \u001b[0mdatabase_path\u001b[0m\u001b[0;34m,\u001b[0m \u001b[0mconcatenation\u001b[0m\u001b[0;34m)\u001b[0m\u001b[0;34m\u001b[0m\u001b[0;34m\u001b[0m\u001b[0m\n\u001b[0m\u001b[1;32m    478\u001b[0m \u001b[0;34m\u001b[0m\u001b[0m\n\u001b[1;32m    479\u001b[0m     \u001b[0mTm0p7N\u001b[0m \u001b[0;34m=\u001b[0m \u001b[0mtraces\u001b[0m \u001b[0;34m-\u001b[0m \u001b[0;36m0.7\u001b[0m\u001b[0;34m*\u001b[0m\u001b[0mnpil\u001b[0m\u001b[0;34m\u001b[0m\u001b[0;34m\u001b[0m\u001b[0m\n",
      "\u001b[0;31mNameError\u001b[0m: name 'j' is not defined"
     ]
    },
    {
     "data": {
      "image/png": "[encoded data removed]",
      "text/plain": [
       "<Figure size 1728x576 with 3 Axes>"
      ]
     },
     "metadata": {},
     "output_type": "display_data"
    }
   ],
   "source": [
    "from capipeline import get_raster\n",
    "\n",
    "nrec_to_plot = 3\n",
    "\n",
    "starting_recording = rec[0]\n",
    "\n",
    "fig, axes = plt.subplots(1, nrec_to_plot, figsize=(8*nrec_to_plot, 8), sharex=True)\n",
    "\n",
    "for j in range(0,nrec_to_plot):\n",
    "   \n",
    "    raster = get_raster(starting_recording+j, 200, database_path, concatenation=True)\n",
    "    \n",
    "    axes[j].imshow(raster,extent=(0,7000,0,7000),cmap='Greys',vmin=0.25,vmax=1.0)\n",
    "    \n",
    "    axes[j].axis('off')\n",
    "\n",
    "plt.show()"
   ]
  },
  {
   "cell_type": "code",
   "execution_count": 88,
   "metadata": {
    "scrolled": true
   },
   "outputs": [
    {
     "name": "stdout",
     "output_type": "stream",
     "text": [
      "TS_C_MMF_8237 18 \n",
      "Threshold for peak detection: 160\n",
      "18 TS_C_MMF_8237 awake\n",
      "Total trace length: 85000\n",
      "Recording length: 5694\n",
      "Analysis periods: [0, 5000]\n",
      "Analysis period total frames:  5000\n"
     ]
    },
    {
     "data": {
      "image/png": "[encoded data removed]",
      "text/plain": [
       "<Figure size 432x288 with 1 Axes>"
      ]
     },
     "metadata": {},
     "output_type": "display_data"
    },
    {
     "name": "stdout",
     "output_type": "stream",
     "text": [
      "Median baseline: 34.51\n"
     ]
    },
    {
     "name": "stderr",
     "output_type": "stream",
     "text": [
      "/home/andrey/anaconda3/lib/python3.8/site-packages/numpy/lib/function_base.py:2559: RuntimeWarning: invalid value encountered in true_divide\n",
      "  c /= stddev[:, None]\n",
      "/home/andrey/anaconda3/lib/python3.8/site-packages/numpy/lib/function_base.py:2560: RuntimeWarning: invalid value encountered in true_divide\n",
      "  c /= stddev[None, :]\n"
     ]
    },
    {
     "name": "stdout",
     "output_type": "stream",
     "text": [
      "Number of neurons accepted: 1170\n",
      "*****\n",
      "TS_C_MMF_8237 19 \n",
      "Threshold for peak detection: 160\n",
      "19 TS_C_MMF_8237 mmf\n",
      "Total trace length: 85000\n",
      "Recording length: 9000\n",
      "Analysis periods: [0, 5000]\n",
      "Analysis period total frames:  5000\n"
     ]
    },
    {
     "data": {
      "image/png": "[encoded data removed]",
      "text/plain": [
       "<Figure size 432x288 with 1 Axes>"
      ]
     },
     "metadata": {},
     "output_type": "display_data"
    },
    {
     "name": "stdout",
     "output_type": "stream",
     "text": [
      "Median baseline: 12.73\n"
     ]
    },
    {
     "name": "stderr",
     "output_type": "stream",
     "text": [
      "/home/andrey/anaconda3/lib/python3.8/site-packages/numpy/lib/function_base.py:2559: RuntimeWarning: invalid value encountered in true_divide\n",
      "  c /= stddev[:, None]\n",
      "/home/andrey/anaconda3/lib/python3.8/site-packages/numpy/lib/function_base.py:2560: RuntimeWarning: invalid value encountered in true_divide\n",
      "  c /= stddev[None, :]\n"
     ]
    },
    {
     "name": "stdout",
     "output_type": "stream",
     "text": [
      "Number of neurons accepted: 1170\n"
     ]
    },
    {
     "ename": "KeyboardInterrupt",
     "evalue": "",
     "output_type": "error",
     "traceback": [
      "\u001b[0;31m---------------------------------------------------------------------------\u001b[0m",
      "\u001b[0;31mKeyboardInterrupt\u001b[0m                         Traceback (most recent call last)",
      "\u001b[0;32m<ipython-input-88-b324b7955797>\u001b[0m in \u001b[0;36m<module>\u001b[0;34m\u001b[0m\n\u001b[1;32m     15\u001b[0m \u001b[0;34m\u001b[0m\u001b[0m\n\u001b[1;32m     16\u001b[0m     \u001b[0mprint\u001b[0m\u001b[0;34m(\u001b[0m\u001b[0;34m\"Threshold for peak detection: \"\u001b[0m \u001b[0;34m+\u001b[0m \u001b[0mstr\u001b[0m\u001b[0;34m(\u001b[0m\u001b[0mthreshold\u001b[0m\u001b[0;34m)\u001b[0m\u001b[0;34m)\u001b[0m\u001b[0;34m\u001b[0m\u001b[0;34m\u001b[0m\u001b[0m\n\u001b[0;32m---> 17\u001b[0;31m     \u001b[0mdf_e\u001b[0m\u001b[0;34m,\u001b[0m \u001b[0mdf_c\u001b[0m   \u001b[0;34m=\u001b[0m \u001b[0mget_data_frame\u001b[0m\u001b[0;34m(\u001b[0m\u001b[0mr\u001b[0m\u001b[0;34m,\u001b[0m \u001b[0mdatabase_path\u001b[0m\u001b[0;34m,\u001b[0m \u001b[0mthreshold\u001b[0m\u001b[0;34m=\u001b[0m\u001b[0mthreshold\u001b[0m\u001b[0;34m,\u001b[0m \u001b[0mbaseline_correction\u001b[0m\u001b[0;34m=\u001b[0m\u001b[0;32mTrue\u001b[0m\u001b[0;34m,\u001b[0m\u001b[0mconcatination\u001b[0m\u001b[0;34m=\u001b[0m\u001b[0;32mTrue\u001b[0m\u001b[0;34m)\u001b[0m\u001b[0;34m\u001b[0m\u001b[0;34m\u001b[0m\u001b[0m\n\u001b[0m\u001b[1;32m     18\u001b[0m \u001b[0;34m\u001b[0m\u001b[0m\n\u001b[1;32m     19\u001b[0m     \u001b[0mdf_estimators\u001b[0m \u001b[0;34m=\u001b[0m \u001b[0mpd\u001b[0m\u001b[0;34m.\u001b[0m\u001b[0mconcat\u001b[0m\u001b[0;34m(\u001b[0m\u001b[0;34m[\u001b[0m\u001b[0mdf_estimators\u001b[0m\u001b[0;34m,\u001b[0m\u001b[0mdf_e\u001b[0m\u001b[0;34m]\u001b[0m\u001b[0;34m)\u001b[0m\u001b[0;34m\u001b[0m\u001b[0;34m\u001b[0m\u001b[0m\n",
      "\u001b[0;32m/media/andrey/My Passport/GITHUB_REPOS/Yang_Chini_et_al/notebooks/capipeline.py\u001b[0m in \u001b[0;36mget_data_frame\u001b[0;34m(recording, path, threshold, baseline_correction, concatination)\u001b[0m\n\u001b[1;32m    372\u001b[0m         _, _, b, decay_neuron_isolated10, _ = deconvolve(np.double(Tm0p7N[neuron, ]),\n\u001b[1;32m    373\u001b[0m                                                                  penalty = 0, sn=25, optimize_g = 10)\n\u001b[0;32m--> 374\u001b[0;31m         _, _, _, decay_neuron_no_isolated, _ = deconvolve(np.double(Tm0p7N[neuron, ]), sn=25,\n\u001b[0m\u001b[1;32m    375\u001b[0m                                                               penalty = 0)\n\u001b[1;32m    376\u001b[0m \u001b[0;34m\u001b[0m\u001b[0m\n",
      "\u001b[0;32m/media/andrey/My Passport/OASIS-master/oasis/functions.py\u001b[0m in \u001b[0;36mdeconvolve\u001b[0;34m(y, g, sn, b, b_nonneg, optimize_g, penalty, **kwargs)\u001b[0m\n\u001b[1;32m    160\u001b[0m             \u001b[0msn\u001b[0m \u001b[0;34m=\u001b[0m \u001b[0mest\u001b[0m\u001b[0;34m[\u001b[0m\u001b[0;36m1\u001b[0m\u001b[0;34m]\u001b[0m\u001b[0;34m\u001b[0m\u001b[0;34m\u001b[0m\u001b[0m\n\u001b[1;32m    161\u001b[0m     \u001b[0;32mif\u001b[0m \u001b[0mlen\u001b[0m\u001b[0;34m(\u001b[0m\u001b[0mg\u001b[0m\u001b[0;34m)\u001b[0m \u001b[0;34m==\u001b[0m \u001b[0;36m1\u001b[0m\u001b[0;34m:\u001b[0m\u001b[0;34m\u001b[0m\u001b[0;34m\u001b[0m\u001b[0m\n\u001b[0;32m--> 162\u001b[0;31m         return constrained_oasisAR1(y, g[0], sn, optimize_b=True if b is None else False,\n\u001b[0m\u001b[1;32m    163\u001b[0m                                     \u001b[0mb_nonneg\u001b[0m\u001b[0;34m=\u001b[0m\u001b[0mb_nonneg\u001b[0m\u001b[0;34m,\u001b[0m \u001b[0moptimize_g\u001b[0m\u001b[0;34m=\u001b[0m\u001b[0moptimize_g\u001b[0m\u001b[0;34m,\u001b[0m\u001b[0;34m\u001b[0m\u001b[0;34m\u001b[0m\u001b[0m\n\u001b[1;32m    164\u001b[0m                                     penalty=penalty, **kwargs)\n",
      "\u001b[0;31mKeyboardInterrupt\u001b[0m: "
     ]
    }
   ],
   "source": [
    "#### WHAT TO DO WITH EXCLUDED VALUES???\n",
    "\n",
    "df_estimators = pd.DataFrame()\n",
    "\n",
    "df_corrs =  pd.DataFrame()\n",
    "\n",
    "for r in rec:\n",
    "    \n",
    "    animal = get_animal_from_recording(r, database_path)\n",
    "    \n",
    "    print(str(animal) + \" \" + str(r) + \" \")\n",
    "\n",
    "    if (animal=='TS_C_MMF_8237'): ### assign threshold\n",
    "         threshold = 160\n",
    "        \n",
    "    print(\"Threshold for peak detection: \" + str(threshold))\n",
    "    df_e, df_c   = get_data_frame(r, database_path, threshold=threshold, baseline_correction=True,concatination=True)\n",
    "\n",
    "    df_estimators = pd.concat([df_estimators,df_e])\n",
    "    df_corrs = pd.concat([df_corrs,df_c])\n",
    "\n",
    "    print(\"*****\")\n",
    "\n",
    "    \n",
    "df_estimators['neuronID'] = df_estimators.index"
   ]
  },
  {
   "cell_type": "markdown",
   "metadata": {},
   "source": [
    "### Store data frames"
   ]
  },
  {
   "cell_type": "code",
   "execution_count": 96,
   "metadata": {},
   "outputs": [],
   "source": [
    "df_estimators.to_pickle(\"./df_estimators_TS_C_MMF_8237_n_peaks_baseline.pkl\") \n",
    "df_corrs.to_pickle(\"./df_corrs_TS_C_MMF_8237_n_peaks_baseline.pkl\") "
   ]
  },
  {
   "cell_type": "markdown",
   "metadata": {},
   "source": [
    "# Load reprocessed data"
   ]
  },
  {
   "cell_type": "code",
   "execution_count": 3,
   "metadata": {},
   "outputs": [],
   "source": [
    "df_estimators = pd.read_pickle(\"./df_estimators_TS_C_MMF_8237_n_peaks_baseline.pkl\")\n",
    "df_corrs = pd.read_pickle(\"./df_corrs_TS_C_MMF_8237_n_peaks_baseline.pkl\")"
   ]
  },
  {
   "cell_type": "markdown",
   "metadata": {},
   "source": [
    "### Check availible conditions"
   ]
  },
  {
   "cell_type": "code",
   "execution_count": 98,
   "metadata": {},
   "outputs": [
    {
     "data": {
      "text/plain": [
       "array(['awake'], dtype=object)"
      ]
     },
     "execution_count": 98,
     "metadata": {},
     "output_type": "execute_result"
    }
   ],
   "source": [
    "np.unique(df_estimators.condition)"
   ]
  },
  {
   "cell_type": "markdown",
   "metadata": {},
   "source": [
    "### Get statistics on the features and correlations \n",
    "\n",
    "**Main features (df_estimators):**\n",
    "\n",
    "- n_peaks\n",
    "- width.median\n",
    "- height.median\n",
    "- decay time\n",
    "- skewness\n",
    "- integral\n",
    "- baseline\n",
    "- number of active neurons\n",
    "\n",
    "**Correlations (df_corrs):**\n",
    "\n",
    "- Pearson correlation of neurons \n",
    "- absolute Pearson correlation of neurons"
   ]
  },
  {
   "cell_type": "code",
   "execution_count": 5,
   "metadata": {},
   "outputs": [
    {
     "data": {
      "text/html": [
       "<div>\n",
       "<style scoped>\n",
       "    .dataframe tbody tr th:only-of-type {\n",
       "        vertical-align: middle;\n",
       "    }\n",
       "\n",
       "    .dataframe tbody tr th {\n",
       "        vertical-align: top;\n",
       "    }\n",
       "\n",
       "    .dataframe thead th {\n",
       "        text-align: right;\n",
       "    }\n",
       "</style>\n",
       "<table border=\"1\" class=\"dataframe\">\n",
       "  <thead>\n",
       "    <tr style=\"text-align: right;\">\n",
       "      <th></th>\n",
       "      <th>recording</th>\n",
       "      <th>neuronID</th>\n",
       "      <th>n.accepted</th>\n",
       "      <th>length.frames</th>\n",
       "      <th>length.minutes</th>\n",
       "      <th>n.accepted_and_rejected</th>\n",
       "      <th>traces.median</th>\n",
       "      <th>npil.median</th>\n",
       "      <th>trace.std</th>\n",
       "      <th>npil.std</th>\n",
       "      <th>...</th>\n",
       "      <th>baseline.oasis</th>\n",
       "      <th>integral</th>\n",
       "      <th>Tm0p7Ncorr.mean</th>\n",
       "      <th>peak_detection_threshold</th>\n",
       "      <th>decay_isol</th>\n",
       "      <th>decay_no_isol</th>\n",
       "      <th>n_peaks</th>\n",
       "      <th>n_peaks_per_recording</th>\n",
       "      <th>height.median</th>\n",
       "      <th>width.median</th>\n",
       "    </tr>\n",
       "  </thead>\n",
       "  <tbody>\n",
       "    <tr>\n",
       "      <th>count</th>\n",
       "      <td>10530.000000</td>\n",
       "      <td>10530.000000</td>\n",
       "      <td>10530.0</td>\n",
       "      <td>10530.000000</td>\n",
       "      <td>10530.000000</td>\n",
       "      <td>10530.0</td>\n",
       "      <td>10530.000000</td>\n",
       "      <td>10530.000000</td>\n",
       "      <td>10530.000000</td>\n",
       "      <td>10530.000000</td>\n",
       "      <td>...</td>\n",
       "      <td>10530.000000</td>\n",
       "      <td>10530.000000</td>\n",
       "      <td>10530.000000</td>\n",
       "      <td>10530.0</td>\n",
       "      <td>10530.000000</td>\n",
       "      <td>10530.000000</td>\n",
       "      <td>10530.000000</td>\n",
       "      <td>10530.000000</td>\n",
       "      <td>8573.000000</td>\n",
       "      <td>8573.000000</td>\n",
       "    </tr>\n",
       "    <tr>\n",
       "      <th>mean</th>\n",
       "      <td>22.000000</td>\n",
       "      <td>584.500000</td>\n",
       "      <td>1170.0</td>\n",
       "      <td>5111.111111</td>\n",
       "      <td>2.839506</td>\n",
       "      <td>2429.0</td>\n",
       "      <td>276.193268</td>\n",
       "      <td>256.982513</td>\n",
       "      <td>27.906294</td>\n",
       "      <td>27.906294</td>\n",
       "      <td>...</td>\n",
       "      <td>33.851483</td>\n",
       "      <td>70.530825</td>\n",
       "      <td>0.001777</td>\n",
       "      <td>160.0</td>\n",
       "      <td>2.358118</td>\n",
       "      <td>0.668918</td>\n",
       "      <td>40.585704</td>\n",
       "      <td>115.607597</td>\n",
       "      <td>255.688462</td>\n",
       "      <td>61.612957</td>\n",
       "    </tr>\n",
       "    <tr>\n",
       "      <th>std</th>\n",
       "      <td>2.582112</td>\n",
       "      <td>337.765823</td>\n",
       "      <td>0.0</td>\n",
       "      <td>314.284604</td>\n",
       "      <td>0.174603</td>\n",
       "      <td>0.0</td>\n",
       "      <td>178.007980</td>\n",
       "      <td>136.855087</td>\n",
       "      <td>27.797024</td>\n",
       "      <td>27.797024</td>\n",
       "      <td>...</td>\n",
       "      <td>59.080215</td>\n",
       "      <td>105.885473</td>\n",
       "      <td>0.004410</td>\n",
       "      <td>0.0</td>\n",
       "      <td>7.770262</td>\n",
       "      <td>0.491665</td>\n",
       "      <td>44.048309</td>\n",
       "      <td>126.088156</td>\n",
       "      <td>119.514399</td>\n",
       "      <td>179.706254</td>\n",
       "    </tr>\n",
       "    <tr>\n",
       "      <th>min</th>\n",
       "      <td>18.000000</td>\n",
       "      <td>0.000000</td>\n",
       "      <td>1170.0</td>\n",
       "      <td>5000.000000</td>\n",
       "      <td>2.777778</td>\n",
       "      <td>2429.0</td>\n",
       "      <td>0.000000</td>\n",
       "      <td>42.001099</td>\n",
       "      <td>3.671381</td>\n",
       "      <td>3.671381</td>\n",
       "      <td>...</td>\n",
       "      <td>0.000000</td>\n",
       "      <td>-568.994583</td>\n",
       "      <td>-0.024061</td>\n",
       "      <td>160.0</td>\n",
       "      <td>0.004825</td>\n",
       "      <td>0.005221</td>\n",
       "      <td>0.000000</td>\n",
       "      <td>0.000000</td>\n",
       "      <td>160.036316</td>\n",
       "      <td>1.847015</td>\n",
       "    </tr>\n",
       "    <tr>\n",
       "      <th>25%</th>\n",
       "      <td>20.000000</td>\n",
       "      <td>292.000000</td>\n",
       "      <td>1170.0</td>\n",
       "      <td>5000.000000</td>\n",
       "      <td>2.777778</td>\n",
       "      <td>2429.0</td>\n",
       "      <td>155.743740</td>\n",
       "      <td>155.073753</td>\n",
       "      <td>12.949378</td>\n",
       "      <td>12.949378</td>\n",
       "      <td>...</td>\n",
       "      <td>0.000039</td>\n",
       "      <td>7.469192</td>\n",
       "      <td>0.000040</td>\n",
       "      <td>160.0</td>\n",
       "      <td>0.106243</td>\n",
       "      <td>0.183865</td>\n",
       "      <td>0.720000</td>\n",
       "      <td>2.000000</td>\n",
       "      <td>183.627823</td>\n",
       "      <td>12.684397</td>\n",
       "    </tr>\n",
       "    <tr>\n",
       "      <th>50%</th>\n",
       "      <td>22.000000</td>\n",
       "      <td>584.500000</td>\n",
       "      <td>1170.0</td>\n",
       "      <td>5000.000000</td>\n",
       "      <td>2.777778</td>\n",
       "      <td>2429.0</td>\n",
       "      <td>232.062943</td>\n",
       "      <td>220.850372</td>\n",
       "      <td>19.934484</td>\n",
       "      <td>19.934484</td>\n",
       "      <td>...</td>\n",
       "      <td>7.998768</td>\n",
       "      <td>53.638537</td>\n",
       "      <td>0.001451</td>\n",
       "      <td>160.0</td>\n",
       "      <td>0.352873</td>\n",
       "      <td>0.635967</td>\n",
       "      <td>19.440000</td>\n",
       "      <td>55.000000</td>\n",
       "      <td>210.574097</td>\n",
       "      <td>20.093484</td>\n",
       "    </tr>\n",
       "    <tr>\n",
       "      <th>75%</th>\n",
       "      <td>24.000000</td>\n",
       "      <td>877.000000</td>\n",
       "      <td>1170.0</td>\n",
       "      <td>5000.000000</td>\n",
       "      <td>2.777778</td>\n",
       "      <td>2429.0</td>\n",
       "      <td>349.728149</td>\n",
       "      <td>328.991821</td>\n",
       "      <td>31.527514</td>\n",
       "      <td>31.527514</td>\n",
       "      <td>...</td>\n",
       "      <td>46.124276</td>\n",
       "      <td>113.528742</td>\n",
       "      <td>0.003599</td>\n",
       "      <td>160.0</td>\n",
       "      <td>0.555078</td>\n",
       "      <td>1.103994</td>\n",
       "      <td>82.800000</td>\n",
       "      <td>234.000000</td>\n",
       "      <td>282.922668</td>\n",
       "      <td>45.549530</td>\n",
       "    </tr>\n",
       "    <tr>\n",
       "      <th>max</th>\n",
       "      <td>26.000000</td>\n",
       "      <td>1169.000000</td>\n",
       "      <td>1170.0</td>\n",
       "      <td>6000.000000</td>\n",
       "      <td>3.333333</td>\n",
       "      <td>2429.0</td>\n",
       "      <td>1661.458862</td>\n",
       "      <td>949.584839</td>\n",
       "      <td>372.736633</td>\n",
       "      <td>372.736633</td>\n",
       "      <td>...</td>\n",
       "      <td>842.286785</td>\n",
       "      <td>917.365800</td>\n",
       "      <td>0.026182</td>\n",
       "      <td>160.0</td>\n",
       "      <td>33.316664</td>\n",
       "      <td>1.649311</td>\n",
       "      <td>131.760000</td>\n",
       "      <td>439.000000</td>\n",
       "      <td>1405.087036</td>\n",
       "      <td>4866.486644</td>\n",
       "    </tr>\n",
       "  </tbody>\n",
       "</table>\n",
       "<p>8 rows × 40 columns</p>\n",
       "</div>"
      ],
      "text/plain": [
       "          recording      neuronID  n.accepted  length.frames  length.minutes  \\\n",
       "count  10530.000000  10530.000000     10530.0   10530.000000    10530.000000   \n",
       "mean      22.000000    584.500000      1170.0    5111.111111        2.839506   \n",
       "std        2.582112    337.765823         0.0     314.284604        0.174603   \n",
       "min       18.000000      0.000000      1170.0    5000.000000        2.777778   \n",
       "25%       20.000000    292.000000      1170.0    5000.000000        2.777778   \n",
       "50%       22.000000    584.500000      1170.0    5000.000000        2.777778   \n",
       "75%       24.000000    877.000000      1170.0    5000.000000        2.777778   \n",
       "max       26.000000   1169.000000      1170.0    6000.000000        3.333333   \n",
       "\n",
       "       n.accepted_and_rejected  traces.median   npil.median     trace.std  \\\n",
       "count                  10530.0   10530.000000  10530.000000  10530.000000   \n",
       "mean                    2429.0     276.193268    256.982513     27.906294   \n",
       "std                        0.0     178.007980    136.855087     27.797024   \n",
       "min                     2429.0       0.000000     42.001099      3.671381   \n",
       "25%                     2429.0     155.743740    155.073753     12.949378   \n",
       "50%                     2429.0     232.062943    220.850372     19.934484   \n",
       "75%                     2429.0     349.728149    328.991821     31.527514   \n",
       "max                     2429.0    1661.458862    949.584839    372.736633   \n",
       "\n",
       "           npil.std  ...  baseline.oasis      integral  Tm0p7Ncorr.mean  \\\n",
       "count  10530.000000  ...    10530.000000  10530.000000     10530.000000   \n",
       "mean      27.906294  ...       33.851483     70.530825         0.001777   \n",
       "std       27.797024  ...       59.080215    105.885473         0.004410   \n",
       "min        3.671381  ...        0.000000   -568.994583        -0.024061   \n",
       "25%       12.949378  ...        0.000039      7.469192         0.000040   \n",
       "50%       19.934484  ...        7.998768     53.638537         0.001451   \n",
       "75%       31.527514  ...       46.124276    113.528742         0.003599   \n",
       "max      372.736633  ...      842.286785    917.365800         0.026182   \n",
       "\n",
       "       peak_detection_threshold    decay_isol  decay_no_isol       n_peaks  \\\n",
       "count                   10530.0  10530.000000   10530.000000  10530.000000   \n",
       "mean                      160.0      2.358118       0.668918     40.585704   \n",
       "std                         0.0      7.770262       0.491665     44.048309   \n",
       "min                       160.0      0.004825       0.005221      0.000000   \n",
       "25%                       160.0      0.106243       0.183865      0.720000   \n",
       "50%                       160.0      0.352873       0.635967     19.440000   \n",
       "75%                       160.0      0.555078       1.103994     82.800000   \n",
       "max                       160.0     33.316664       1.649311    131.760000   \n",
       "\n",
       "       n_peaks_per_recording  height.median  width.median  \n",
       "count           10530.000000    8573.000000   8573.000000  \n",
       "mean              115.607597     255.688462     61.612957  \n",
       "std               126.088156     119.514399    179.706254  \n",
       "min                 0.000000     160.036316      1.847015  \n",
       "25%                 2.000000     183.627823     12.684397  \n",
       "50%                55.000000     210.574097     20.093484  \n",
       "75%               234.000000     282.922668     45.549530  \n",
       "max               439.000000    1405.087036   4866.486644  \n",
       "\n",
       "[8 rows x 40 columns]"
      ]
     },
     "execution_count": 5,
     "metadata": {},
     "output_type": "execute_result"
    }
   ],
   "source": [
    "df_estimators.describe()"
   ]
  },
  {
   "cell_type": "code",
   "execution_count": 6,
   "metadata": {},
   "outputs": [
    {
     "data": {
      "text/html": [
       "<div>\n",
       "<style scoped>\n",
       "    .dataframe tbody tr th:only-of-type {\n",
       "        vertical-align: middle;\n",
       "    }\n",
       "\n",
       "    .dataframe tbody tr th {\n",
       "        vertical-align: top;\n",
       "    }\n",
       "\n",
       "    .dataframe thead th {\n",
       "        text-align: right;\n",
       "    }\n",
       "</style>\n",
       "<table border=\"1\" class=\"dataframe\">\n",
       "  <thead>\n",
       "    <tr style=\"text-align: right;\">\n",
       "      <th></th>\n",
       "      <th>recording</th>\n",
       "      <th>Tm0p7Ncorr</th>\n",
       "      <th>Tm0p7Ncorr.abs</th>\n",
       "    </tr>\n",
       "  </thead>\n",
       "  <tbody>\n",
       "    <tr>\n",
       "      <th>count</th>\n",
       "      <td>1.232010e+07</td>\n",
       "      <td>1.230957e+07</td>\n",
       "      <td>1.230957e+07</td>\n",
       "    </tr>\n",
       "    <tr>\n",
       "      <th>mean</th>\n",
       "      <td>2.200000e+01</td>\n",
       "      <td>9.229237e-04</td>\n",
       "      <td>3.036242e-02</td>\n",
       "    </tr>\n",
       "    <tr>\n",
       "      <th>std</th>\n",
       "      <td>2.581989e+00</td>\n",
       "      <td>5.583744e-02</td>\n",
       "      <td>4.686998e-02</td>\n",
       "    </tr>\n",
       "    <tr>\n",
       "      <th>min</th>\n",
       "      <td>1.800000e+01</td>\n",
       "      <td>-9.883481e-01</td>\n",
       "      <td>3.660796e-09</td>\n",
       "    </tr>\n",
       "    <tr>\n",
       "      <th>25%</th>\n",
       "      <td>2.000000e+01</td>\n",
       "      <td>-1.709684e-02</td>\n",
       "      <td>7.662017e-03</td>\n",
       "    </tr>\n",
       "    <tr>\n",
       "      <th>50%</th>\n",
       "      <td>2.200000e+01</td>\n",
       "      <td>-8.603377e-05</td>\n",
       "      <td>1.701841e-02</td>\n",
       "    </tr>\n",
       "    <tr>\n",
       "      <th>75%</th>\n",
       "      <td>2.400000e+01</td>\n",
       "      <td>1.693834e-02</td>\n",
       "      <td>3.396463e-02</td>\n",
       "    </tr>\n",
       "    <tr>\n",
       "      <th>max</th>\n",
       "      <td>2.600000e+01</td>\n",
       "      <td>9.913196e-01</td>\n",
       "      <td>9.913196e-01</td>\n",
       "    </tr>\n",
       "  </tbody>\n",
       "</table>\n",
       "</div>"
      ],
      "text/plain": [
       "          recording    Tm0p7Ncorr  Tm0p7Ncorr.abs\n",
       "count  1.232010e+07  1.230957e+07    1.230957e+07\n",
       "mean   2.200000e+01  9.229237e-04    3.036242e-02\n",
       "std    2.581989e+00  5.583744e-02    4.686998e-02\n",
       "min    1.800000e+01 -9.883481e-01    3.660796e-09\n",
       "25%    2.000000e+01 -1.709684e-02    7.662017e-03\n",
       "50%    2.200000e+01 -8.603377e-05    1.701841e-02\n",
       "75%    2.400000e+01  1.693834e-02    3.396463e-02\n",
       "max    2.600000e+01  9.913196e-01    9.913196e-01"
      ]
     },
     "execution_count": 6,
     "metadata": {},
     "output_type": "execute_result"
    }
   ],
   "source": [
    "df_corrs.describe()"
   ]
  },
  {
   "cell_type": "markdown",
   "metadata": {},
   "source": [
    "### Get median value of the feature for a given animal"
   ]
  },
  {
   "cell_type": "code",
   "execution_count": 7,
   "metadata": {},
   "outputs": [
    {
     "data": {
      "text/html": [
       "<div>\n",
       "<style scoped>\n",
       "    .dataframe tbody tr th:only-of-type {\n",
       "        vertical-align: middle;\n",
       "    }\n",
       "\n",
       "    .dataframe tbody tr th {\n",
       "        vertical-align: top;\n",
       "    }\n",
       "\n",
       "    .dataframe thead th {\n",
       "        text-align: right;\n",
       "    }\n",
       "</style>\n",
       "<table border=\"1\" class=\"dataframe\">\n",
       "  <thead>\n",
       "    <tr style=\"text-align: right;\">\n",
       "      <th></th>\n",
       "      <th>condition</th>\n",
       "      <th>n_peaks</th>\n",
       "    </tr>\n",
       "  </thead>\n",
       "  <tbody>\n",
       "    <tr>\n",
       "      <th>0</th>\n",
       "      <td>awake</td>\n",
       "      <td>18.72</td>\n",
       "    </tr>\n",
       "    <tr>\n",
       "      <th>1</th>\n",
       "      <td>mmf</td>\n",
       "      <td>0.00</td>\n",
       "    </tr>\n",
       "    <tr>\n",
       "      <th>2</th>\n",
       "      <td>post120</td>\n",
       "      <td>30.30</td>\n",
       "    </tr>\n",
       "    <tr>\n",
       "      <th>3</th>\n",
       "      <td>post180</td>\n",
       "      <td>35.46</td>\n",
       "    </tr>\n",
       "    <tr>\n",
       "      <th>4</th>\n",
       "      <td>post240</td>\n",
       "      <td>25.56</td>\n",
       "    </tr>\n",
       "    <tr>\n",
       "      <th>5</th>\n",
       "      <td>post30</td>\n",
       "      <td>4.32</td>\n",
       "    </tr>\n",
       "    <tr>\n",
       "      <th>6</th>\n",
       "      <td>post300</td>\n",
       "      <td>42.12</td>\n",
       "    </tr>\n",
       "    <tr>\n",
       "      <th>7</th>\n",
       "      <td>post360</td>\n",
       "      <td>42.84</td>\n",
       "    </tr>\n",
       "    <tr>\n",
       "      <th>8</th>\n",
       "      <td>post60</td>\n",
       "      <td>18.00</td>\n",
       "    </tr>\n",
       "  </tbody>\n",
       "</table>\n",
       "</div>"
      ],
      "text/plain": [
       "  condition  n_peaks\n",
       "0     awake    18.72\n",
       "1       mmf     0.00\n",
       "2   post120    30.30\n",
       "3   post180    35.46\n",
       "4   post240    25.56\n",
       "5    post30     4.32\n",
       "6   post300    42.12\n",
       "7   post360    42.84\n",
       "8    post60    18.00"
      ]
     },
     "execution_count": 7,
     "metadata": {},
     "output_type": "execute_result"
    }
   ],
   "source": [
    "df_estimators[(df_estimators.animal=='TS_C_MMF_8237')].groupby('condition', as_index=False)['n_peaks'].median()"
   ]
  },
  {
   "cell_type": "code",
   "execution_count": 102,
   "metadata": {},
   "outputs": [
    {
     "data": {
      "text/html": [
       "<div>\n",
       "<style scoped>\n",
       "    .dataframe tbody tr th:only-of-type {\n",
       "        vertical-align: middle;\n",
       "    }\n",
       "\n",
       "    .dataframe tbody tr th {\n",
       "        vertical-align: top;\n",
       "    }\n",
       "\n",
       "    .dataframe thead th {\n",
       "        text-align: right;\n",
       "    }\n",
       "</style>\n",
       "<table border=\"1\" class=\"dataframe\">\n",
       "  <thead>\n",
       "    <tr style=\"text-align: right;\">\n",
       "      <th></th>\n",
       "      <th>condition</th>\n",
       "      <th>Tm0p7Ncorr.abs</th>\n",
       "    </tr>\n",
       "  </thead>\n",
       "  <tbody>\n",
       "    <tr>\n",
       "      <th>0</th>\n",
       "      <td>awake</td>\n",
       "      <td>0.026326</td>\n",
       "    </tr>\n",
       "    <tr>\n",
       "      <th>1</th>\n",
       "      <td>mmf</td>\n",
       "      <td>0.009634</td>\n",
       "    </tr>\n",
       "    <tr>\n",
       "      <th>2</th>\n",
       "      <td>post120</td>\n",
       "      <td>0.014517</td>\n",
       "    </tr>\n",
       "    <tr>\n",
       "      <th>3</th>\n",
       "      <td>post180</td>\n",
       "      <td>0.017756</td>\n",
       "    </tr>\n",
       "    <tr>\n",
       "      <th>4</th>\n",
       "      <td>post240</td>\n",
       "      <td>0.016682</td>\n",
       "    </tr>\n",
       "    <tr>\n",
       "      <th>5</th>\n",
       "      <td>post30</td>\n",
       "      <td>0.014929</td>\n",
       "    </tr>\n",
       "    <tr>\n",
       "      <th>6</th>\n",
       "      <td>post300</td>\n",
       "      <td>0.023240</td>\n",
       "    </tr>\n",
       "    <tr>\n",
       "      <th>7</th>\n",
       "      <td>post360</td>\n",
       "      <td>0.036034</td>\n",
       "    </tr>\n",
       "    <tr>\n",
       "      <th>8</th>\n",
       "      <td>post60</td>\n",
       "      <td>0.013139</td>\n",
       "    </tr>\n",
       "  </tbody>\n",
       "</table>\n",
       "</div>"
      ],
      "text/plain": [
       "  condition  Tm0p7Ncorr.abs\n",
       "0     awake        0.026326\n",
       "1       mmf        0.009634\n",
       "2   post120        0.014517\n",
       "3   post180        0.017756\n",
       "4   post240        0.016682\n",
       "5    post30        0.014929\n",
       "6   post300        0.023240\n",
       "7   post360        0.036034\n",
       "8    post60        0.013139"
      ]
     },
     "execution_count": 102,
     "metadata": {},
     "output_type": "execute_result"
    }
   ],
   "source": [
    "df_corrs[(df_corrs['Tm0p7Ncorr.abs'] < 0.999)].groupby('condition', as_index=False)['Tm0p7Ncorr.abs'].median()"
   ]
  },
  {
   "cell_type": "markdown",
   "metadata": {},
   "source": [
    "### Violin plot for a given feature"
   ]
  },
  {
   "cell_type": "code",
   "execution_count": 10,
   "metadata": {},
   "outputs": [
    {
     "data": {
      "image/png": "[encoded data removed]",
      "text/plain": [
       "<Figure size 576x432 with 1 Axes>"
      ]
     },
     "metadata": {},
     "output_type": "display_data"
    }
   ],
   "source": [
    "feature = 'n_peaks' # number of peaks per min\n",
    "conditions = [\"awake\",\"mmf\",\"post30\",\"post60\",\"post120\",\"post180\",\"post240\",\"post300\",\"post360\"]\n",
    "\n",
    "f, axes = plt.subplots(1, 1, figsize=(8, 6), sharex=True)\n",
    "sns.despine(left=True)\n",
    "#axes.set_ylim([0, 100.0])\n",
    "sns.violinplot(x='condition', y=feature, data=df_estimators,ax=axes,order = conditions,scale='width',cut=0)\n",
    "sns.pointplot(x='condition', y=feature, markers='o', scale=1.1, color='k',data=df_estimators.groupby('condition', as_index=False)[feature].median(), ax=axes,order=conditions)\n",
    "plt.savefig(\"n_peaks.png\")\n",
    "plt.savefig(\"n_peaks.eps\")"
   ]
  },
  {
   "cell_type": "markdown",
   "metadata": {},
   "source": [
    "### Violin plot for correlations"
   ]
  },
  {
   "cell_type": "code",
   "execution_count": 11,
   "metadata": {},
   "outputs": [
    {
     "data": {
      "text/plain": [
       "Text(0, 0.5, 'Absolute Pearson Correlation')"
      ]
     },
     "execution_count": 11,
     "metadata": {},
     "output_type": "execute_result"
    },
    {
     "data": {
      "image/png": "[encoded data removed]",
      "text/plain": [
       "<Figure size 576x432 with 1 Axes>"
      ]
     },
     "metadata": {},
     "output_type": "display_data"
    }
   ],
   "source": [
    "plt.rcParams['figure.figsize'] = [8, 6]\n",
    "\n",
    "sns.violinplot(x='condition', y='Tm0p7Ncorr.abs',data=df_corrs[(df_corrs['Tm0p7Ncorr.abs'] < 0.9)],order=[\"awake\",\"mmf\",\"post30\",\"post60\",\"post120\",\"post180\",\"post240\",\"post300\",\"post360\"],scale='width',cut=0)\n",
    "sns.pointplot(x='condition', y='Tm0p7Ncorr.abs', markers='o', scale=1.1, color='k',data=df_corrs[(df_corrs['Tm0p7Ncorr.abs'] < 0.9)].groupby('condition', as_index=False)['Tm0p7Ncorr.abs'].median(),order=[\"awake\",\"mmf\",\"post30\",\"post60\",\"post120\",\"post180\",\"post240\",\"post300\",\"post360\"])\n",
    "\n",
    "plt.ylim([-0.00,0.035])\n",
    "#plt.yscale('log')\n",
    "#plt.savefig(\"correlations.png\")\n",
    "#plt.savefig(\"correlations.eps\")\n",
    "plt.title(\"Absolute Pearson Correlation (Tm0p7Ncorr)\")\n",
    "plt.ylabel(\"Absolute Pearson Correlation\")\n"
   ]
  },
  {
   "cell_type": "markdown",
   "metadata": {},
   "source": [
    "# Single-neuron level analysis"
   ]
  },
  {
   "cell_type": "code",
   "execution_count": 11,
   "metadata": {},
   "outputs": [],
   "source": [
    "df_estimators['neuronID'] = df_estimators.index # make a column from neuronID (to be removed from here and added to the reprocessing)"
   ]
  },
  {
   "cell_type": "code",
   "execution_count": 17,
   "metadata": {},
   "outputs": [
    {
     "data": {
      "image/png": "[encoded data removed]",
      "text/plain": [
       "<Figure size 720x288 with 1 Axes>"
      ]
     },
     "metadata": {},
     "output_type": "display_data"
    }
   ],
   "source": [
    "g=sns.relplot(x = 'condition',y = 'n_peaks', data = df_estimators[df_estimators.neuronID<50], marker='o',hue='neuronID',kind='line')\n",
    "g.fig.set_size_inches(10,4)\n",
    "plt.title(\"Animal 8237; MMF\")\n",
    "plt.savefig(\"single-neuron-level-analysis.png\")\n",
    "plt.savefig(\"single-neuron-level-analysis.eps\")"
   ]
  },
  {
   "cell_type": "markdown",
   "metadata": {},
   "source": [
    "# Single-neuron level analysis (interactive)"
   ]
  },
  {
   "cell_type": "markdown",
   "metadata": {},
   "source": [
    "### Number of transients in different conditions; color represents median hight of transients, while size their median decay time"
   ]
  },
  {
   "cell_type": "code",
   "execution_count": 7,
   "metadata": {},
   "outputs": [
    {
     "data": {
      "application/vnd.plotly.v1+json": {
       "config": {
        "plotlyServerURL": "https://plot.ly"
       },
       "data": [
        {
         "hovertemplate": "neuronID=0<br>condition=%{x}<br>n_peaks=%{y}<extra></extra>",
         "legendgroup": "0",
         "line": {
          "color": "#636efa",
          "dash": "solid"
         },
         "mode": "lines",
         "name": "0",
         "orientation": "v",
         "showlegend": true,
         "type": "scatter",
         "x": [
          "awake"
         ],
         "xaxis": "x",
         "y": [
          120.24000000000001
         ],
         "yaxis": "y"
        },
        {
         "hovertemplate": "neuronID=1<br>condition=%{x}<br>n_peaks=%{y}<extra></extra>",
         "legendgroup": "1",
         "line": {
          "color": "#EF553B",
          "dash": "solid"
         },
         "mode": "lines",
         "name": "1",
         "orientation": "v",
         "showlegend": true,
         "type": "scatter",
         "x": [
          "awake"
         ],
         "xaxis": "x",
         "y": [
          109.08
         ],
         "yaxis": "y"
        },
        {
         "hovertemplate": "neuronID=2<br>condition=%{x}<br>n_peaks=%{y}<extra></extra>",
         "legendgroup": "2",
         "line": {
          "color": "#00cc96",
          "dash": "solid"
         },
         "mode": "lines",
         "name": "2",
         "orientation": "v",
         "showlegend": true,
         "type": "scatter",
         "x": [
          "awake"
         ],
         "xaxis": "x",
         "y": [
          121.68
         ],
         "yaxis": "y"
        },
        {
         "hovertemplate": "neuronID=3<br>condition=%{x}<br>n_peaks=%{y}<extra></extra>",
         "legendgroup": "3",
         "line": {
          "color": "#ab63fa",
          "dash": "solid"
         },
         "mode": "lines",
         "name": "3",
         "orientation": "v",
         "showlegend": true,
         "type": "scatter",
         "x": [
          "awake"
         ],
         "xaxis": "x",
         "y": [
          106.56
         ],
         "yaxis": "y"
        },
        {
         "hovertemplate": "neuronID=4<br>condition=%{x}<br>n_peaks=%{y}<extra></extra>",
         "legendgroup": "4",
         "line": {
          "color": "#FFA15A",
          "dash": "solid"
         },
         "mode": "lines",
         "name": "4",
         "orientation": "v",
         "showlegend": true,
         "type": "scatter",
         "x": [
          "awake"
         ],
         "xaxis": "x",
         "y": [
          90
         ],
         "yaxis": "y"
        },
        {
         "hovertemplate": "neuronID=5<br>condition=%{x}<br>n_peaks=%{y}<extra></extra>",
         "legendgroup": "5",
         "line": {
          "color": "#19d3f3",
          "dash": "solid"
         },
         "mode": "lines",
         "name": "5",
         "orientation": "v",
         "showlegend": true,
         "type": "scatter",
         "x": [
          "awake"
         ],
         "xaxis": "x",
         "y": [
          81
         ],
         "yaxis": "y"
        },
        {
         "hovertemplate": "neuronID=6<br>condition=%{x}<br>n_peaks=%{y}<extra></extra>",
         "legendgroup": "6",
         "line": {
          "color": "#FF6692",
          "dash": "solid"
         },
         "mode": "lines",
         "name": "6",
         "orientation": "v",
         "showlegend": true,
         "type": "scatter",
         "x": [
          "awake"
         ],
         "xaxis": "x",
         "y": [
          52.92
         ],
         "yaxis": "y"
        },
        {
         "hovertemplate": "neuronID=7<br>condition=%{x}<br>n_peaks=%{y}<extra></extra>",
         "legendgroup": "7",
         "line": {
          "color": "#B6E880",
          "dash": "solid"
         },
         "mode": "lines",
         "name": "7",
         "orientation": "v",
         "showlegend": true,
         "type": "scatter",
         "x": [
          "awake"
         ],
         "xaxis": "x",
         "y": [
          111.96000000000001
         ],
         "yaxis": "y"
        },
        {
         "hovertemplate": "neuronID=8<br>condition=%{x}<br>n_peaks=%{y}<extra></extra>",
         "legendgroup": "8",
         "line": {
          "color": "#FF97FF",
          "dash": "solid"
         },
         "mode": "lines",
         "name": "8",
         "orientation": "v",
         "showlegend": true,
         "type": "scatter",
         "x": [
          "awake"
         ],
         "xaxis": "x",
         "y": [
          118.8
         ],
         "yaxis": "y"
        },
        {
         "hovertemplate": "neuronID=9<br>condition=%{x}<br>n_peaks=%{y}<extra></extra>",
         "legendgroup": "9",
         "line": {
          "color": "#FECB52",
          "dash": "solid"
         },
         "mode": "lines",
         "name": "9",
         "orientation": "v",
         "showlegend": true,
         "type": "scatter",
         "x": [
          "awake"
         ],
         "xaxis": "x",
         "y": [
          94.32000000000001
         ],
         "yaxis": "y"
        },
        {
         "hovertemplate": "neuronID=10<br>condition=%{x}<br>n_peaks=%{y}<extra></extra>",
         "legendgroup": "10",
         "line": {
          "color": "#636efa",
          "dash": "solid"
         },
         "mode": "lines",
         "name": "10",
         "orientation": "v",
         "showlegend": true,
         "type": "scatter",
         "x": [
          "awake"
         ],
         "xaxis": "x",
         "y": [
          129.24
         ],
         "yaxis": "y"
        },
        {
         "hovertemplate": "neuronID=11<br>condition=%{x}<br>n_peaks=%{y}<extra></extra>",
         "legendgroup": "11",
         "line": {
          "color": "#EF553B",
          "dash": "solid"
         },
         "mode": "lines",
         "name": "11",
         "orientation": "v",
         "showlegend": true,
         "type": "scatter",
         "x": [
          "awake"
         ],
         "xaxis": "x",
         "y": [
          65.88
         ],
         "yaxis": "y"
        },
        {
         "hovertemplate": "neuronID=12<br>condition=%{x}<br>n_peaks=%{y}<extra></extra>",
         "legendgroup": "12",
         "line": {
          "color": "#00cc96",
          "dash": "solid"
         },
         "mode": "lines",
         "name": "12",
         "orientation": "v",
         "showlegend": true,
         "type": "scatter",
         "x": [
          "awake"
         ],
         "xaxis": "x",
         "y": [
          117
         ],
         "yaxis": "y"
        },
        {
         "hovertemplate": "neuronID=13<br>condition=%{x}<br>n_peaks=%{y}<extra></extra>",
         "legendgroup": "13",
         "line": {
          "color": "#ab63fa",
          "dash": "solid"
         },
         "mode": "lines",
         "name": "13",
         "orientation": "v",
         "showlegend": true,
         "type": "scatter",
         "x": [
          "awake"
         ],
         "xaxis": "x",
         "y": [
          115.56
         ],
         "yaxis": "y"
        },
        {
         "hovertemplate": "neuronID=14<br>condition=%{x}<br>n_peaks=%{y}<extra></extra>",
         "legendgroup": "14",
         "line": {
          "color": "#FFA15A",
          "dash": "solid"
         },
         "mode": "lines",
         "name": "14",
         "orientation": "v",
         "showlegend": true,
         "type": "scatter",
         "x": [
          "awake"
         ],
         "xaxis": "x",
         "y": [
          114.84
         ],
         "yaxis": "y"
        },
        {
         "hovertemplate": "neuronID=15<br>condition=%{x}<br>n_peaks=%{y}<extra></extra>",
         "legendgroup": "15",
         "line": {
          "color": "#19d3f3",
          "dash": "solid"
         },
         "mode": "lines",
         "name": "15",
         "orientation": "v",
         "showlegend": true,
         "type": "scatter",
         "x": [
          "awake"
         ],
         "xaxis": "x",
         "y": [
          102.96000000000001
         ],
         "yaxis": "y"
        },
        {
         "hovertemplate": "neuronID=16<br>condition=%{x}<br>n_peaks=%{y}<extra></extra>",
         "legendgroup": "16",
         "line": {
          "color": "#FF6692",
          "dash": "solid"
         },
         "mode": "lines",
         "name": "16",
         "orientation": "v",
         "showlegend": true,
         "type": "scatter",
         "x": [
          "awake"
         ],
         "xaxis": "x",
         "y": [
          112.32000000000001
         ],
         "yaxis": "y"
        },
        {
         "hovertemplate": "neuronID=17<br>condition=%{x}<br>n_peaks=%{y}<extra></extra>",
         "legendgroup": "17",
         "line": {
          "color": "#B6E880",
          "dash": "solid"
         },
         "mode": "lines",
         "name": "17",
         "orientation": "v",
         "showlegend": true,
         "type": "scatter",
         "x": [
          "awake"
         ],
         "xaxis": "x",
         "y": [
          117
         ],
         "yaxis": "y"
        },
        {
         "hovertemplate": "neuronID=18<br>condition=%{x}<br>n_peaks=%{y}<extra></extra>",
         "legendgroup": "18",
         "line": {
          "color": "#FF97FF",
          "dash": "solid"
         },
         "mode": "lines",
         "name": "18",
         "orientation": "v",
         "showlegend": true,
         "type": "scatter",
         "x": [
          "awake"
         ],
         "xaxis": "x",
         "y": [
          105.12
         ],
         "yaxis": "y"
        },
        {
         "hovertemplate": "neuronID=19<br>condition=%{x}<br>n_peaks=%{y}<extra></extra>",
         "legendgroup": "19",
         "line": {
          "color": "#FECB52",
          "dash": "solid"
         },
         "mode": "lines",
         "name": "19",
         "orientation": "v",
         "showlegend": true,
         "type": "scatter",
         "x": [
          "awake"
         ],
         "xaxis": "x",
         "y": [
          75.96000000000001
         ],
         "yaxis": "y"
        },
        {
         "hovertemplate": "neuronID=20<br>condition=%{x}<br>n_peaks=%{y}<extra></extra>",
         "legendgroup": "20",
         "line": {
          "color": "#636efa",
          "dash": "solid"
         },
         "mode": "lines",
         "name": "20",
         "orientation": "v",
         "showlegend": true,
         "type": "scatter",
         "x": [
          "awake"
         ],
         "xaxis": "x",
         "y": [
          113.4
         ],
         "yaxis": "y"
        },
        {
         "hovertemplate": "neuronID=21<br>condition=%{x}<br>n_peaks=%{y}<extra></extra>",
         "legendgroup": "21",
         "line": {
          "color": "#EF553B",
          "dash": "solid"
         },
         "mode": "lines",
         "name": "21",
         "orientation": "v",
         "showlegend": true,
         "type": "scatter",
         "x": [
          "awake"
         ],
         "xaxis": "x",
         "y": [
          76.68
         ],
         "yaxis": "y"
        },
        {
         "hovertemplate": "neuronID=22<br>condition=%{x}<br>n_peaks=%{y}<extra></extra>",
         "legendgroup": "22",
         "line": {
          "color": "#00cc96",
          "dash": "solid"
         },
         "mode": "lines",
         "name": "22",
         "orientation": "v",
         "showlegend": true,
         "type": "scatter",
         "x": [
          "awake"
         ],
         "xaxis": "x",
         "y": [
          124.56
         ],
         "yaxis": "y"
        },
        {
         "hovertemplate": "neuronID=23<br>condition=%{x}<br>n_peaks=%{y}<extra></extra>",
         "legendgroup": "23",
         "line": {
          "color": "#ab63fa",
          "dash": "solid"
         },
         "mode": "lines",
         "name": "23",
         "orientation": "v",
         "showlegend": true,
         "type": "scatter",
         "x": [
          "awake"
         ],
         "xaxis": "x",
         "y": [
          126
         ],
         "yaxis": "y"
        },
        {
         "hovertemplate": "neuronID=24<br>condition=%{x}<br>n_peaks=%{y}<extra></extra>",
         "legendgroup": "24",
         "line": {
          "color": "#FFA15A",
          "dash": "solid"
         },
         "mode": "lines",
         "name": "24",
         "orientation": "v",
         "showlegend": true,
         "type": "scatter",
         "x": [
          "awake"
         ],
         "xaxis": "x",
         "y": [
          113.4
         ],
         "yaxis": "y"
        },
        {
         "hovertemplate": "neuronID=25<br>condition=%{x}<br>n_peaks=%{y}<extra></extra>",
         "legendgroup": "25",
         "line": {
          "color": "#19d3f3",
          "dash": "solid"
         },
         "mode": "lines",
         "name": "25",
         "orientation": "v",
         "showlegend": true,
         "type": "scatter",
         "x": [
          "awake"
         ],
         "xaxis": "x",
         "y": [
          112.32000000000001
         ],
         "yaxis": "y"
        },
        {
         "hovertemplate": "neuronID=26<br>condition=%{x}<br>n_peaks=%{y}<extra></extra>",
         "legendgroup": "26",
         "line": {
          "color": "#FF6692",
          "dash": "solid"
         },
         "mode": "lines",
         "name": "26",
         "orientation": "v",
         "showlegend": true,
         "type": "scatter",
         "x": [
          "awake"
         ],
         "xaxis": "x",
         "y": [
          120.60000000000001
         ],
         "yaxis": "y"
        },
        {
         "hovertemplate": "neuronID=27<br>condition=%{x}<br>n_peaks=%{y}<extra></extra>",
         "legendgroup": "27",
         "line": {
          "color": "#B6E880",
          "dash": "solid"
         },
         "mode": "lines",
         "name": "27",
         "orientation": "v",
         "showlegend": true,
         "type": "scatter",
         "x": [
          "awake"
         ],
         "xaxis": "x",
         "y": [
          121.68
         ],
         "yaxis": "y"
        },
        {
         "hovertemplate": "neuronID=28<br>condition=%{x}<br>n_peaks=%{y}<extra></extra>",
         "legendgroup": "28",
         "line": {
          "color": "#FF97FF",
          "dash": "solid"
         },
         "mode": "lines",
         "name": "28",
         "orientation": "v",
         "showlegend": true,
         "type": "scatter",
         "x": [
          "awake"
         ],
         "xaxis": "x",
         "y": [
          34.92
         ],
         "yaxis": "y"
        },
        {
         "hovertemplate": "neuronID=29<br>condition=%{x}<br>n_peaks=%{y}<extra></extra>",
         "legendgroup": "29",
         "line": {
          "color": "#FECB52",
          "dash": "solid"
         },
         "mode": "lines",
         "name": "29",
         "orientation": "v",
         "showlegend": true,
         "type": "scatter",
         "x": [
          "awake"
         ],
         "xaxis": "x",
         "y": [
          65.88
         ],
         "yaxis": "y"
        },
        {
         "hovertemplate": "neuronID=30<br>condition=%{x}<br>n_peaks=%{y}<extra></extra>",
         "legendgroup": "30",
         "line": {
          "color": "#636efa",
          "dash": "solid"
         },
         "mode": "lines",
         "name": "30",
         "orientation": "v",
         "showlegend": true,
         "type": "scatter",
         "x": [
          "awake"
         ],
         "xaxis": "x",
         "y": [
          97.2
         ],
         "yaxis": "y"
        },
        {
         "hovertemplate": "neuronID=31<br>condition=%{x}<br>n_peaks=%{y}<extra></extra>",
         "legendgroup": "31",
         "line": {
          "color": "#EF553B",
          "dash": "solid"
         },
         "mode": "lines",
         "name": "31",
         "orientation": "v",
         "showlegend": true,
         "type": "scatter",
         "x": [
          "awake"
         ],
         "xaxis": "x",
         "y": [
          92.88000000000001
         ],
         "yaxis": "y"
        },
        {
         "hovertemplate": "neuronID=32<br>condition=%{x}<br>n_peaks=%{y}<extra></extra>",
         "legendgroup": "32",
         "line": {
          "color": "#00cc96",
          "dash": "solid"
         },
         "mode": "lines",
         "name": "32",
         "orientation": "v",
         "showlegend": true,
         "type": "scatter",
         "x": [
          "awake"
         ],
         "xaxis": "x",
         "y": [
          102.96000000000001
         ],
         "yaxis": "y"
        },
        {
         "hovertemplate": "neuronID=33<br>condition=%{x}<br>n_peaks=%{y}<extra></extra>",
         "legendgroup": "33",
         "line": {
          "color": "#ab63fa",
          "dash": "solid"
         },
         "mode": "lines",
         "name": "33",
         "orientation": "v",
         "showlegend": true,
         "type": "scatter",
         "x": [
          "awake"
         ],
         "xaxis": "x",
         "y": [
          51.480000000000004
         ],
         "yaxis": "y"
        },
        {
         "hovertemplate": "neuronID=34<br>condition=%{x}<br>n_peaks=%{y}<extra></extra>",
         "legendgroup": "34",
         "line": {
          "color": "#FFA15A",
          "dash": "solid"
         },
         "mode": "lines",
         "name": "34",
         "orientation": "v",
         "showlegend": true,
         "type": "scatter",
         "x": [
          "awake"
         ],
         "xaxis": "x",
         "y": [
          97.56
         ],
         "yaxis": "y"
        },
        {
         "hovertemplate": "neuronID=35<br>condition=%{x}<br>n_peaks=%{y}<extra></extra>",
         "legendgroup": "35",
         "line": {
          "color": "#19d3f3",
          "dash": "solid"
         },
         "mode": "lines",
         "name": "35",
         "orientation": "v",
         "showlegend": true,
         "type": "scatter",
         "x": [
          "awake"
         ],
         "xaxis": "x",
         "y": [
          14.4
         ],
         "yaxis": "y"
        },
        {
         "hovertemplate": "neuronID=36<br>condition=%{x}<br>n_peaks=%{y}<extra></extra>",
         "legendgroup": "36",
         "line": {
          "color": "#FF6692",
          "dash": "solid"
         },
         "mode": "lines",
         "name": "36",
         "orientation": "v",
         "showlegend": true,
         "type": "scatter",
         "x": [
          "awake"
         ],
         "xaxis": "x",
         "y": [
          116.64
         ],
         "yaxis": "y"
        },
        {
         "hovertemplate": "neuronID=37<br>condition=%{x}<br>n_peaks=%{y}<extra></extra>",
         "legendgroup": "37",
         "line": {
          "color": "#B6E880",
          "dash": "solid"
         },
         "mode": "lines",
         "name": "37",
         "orientation": "v",
         "showlegend": true,
         "type": "scatter",
         "x": [
          "awake"
         ],
         "xaxis": "x",
         "y": [
          0
         ],
         "yaxis": "y"
        },
        {
         "hovertemplate": "neuronID=38<br>condition=%{x}<br>n_peaks=%{y}<extra></extra>",
         "legendgroup": "38",
         "line": {
          "color": "#FF97FF",
          "dash": "solid"
         },
         "mode": "lines",
         "name": "38",
         "orientation": "v",
         "showlegend": true,
         "type": "scatter",
         "x": [
          "awake"
         ],
         "xaxis": "x",
         "y": [
          95.4
         ],
         "yaxis": "y"
        },
        {
         "hovertemplate": "neuronID=39<br>condition=%{x}<br>n_peaks=%{y}<extra></extra>",
         "legendgroup": "39",
         "line": {
          "color": "#FECB52",
          "dash": "solid"
         },
         "mode": "lines",
         "name": "39",
         "orientation": "v",
         "showlegend": true,
         "type": "scatter",
         "x": [
          "awake"
         ],
         "xaxis": "x",
         "y": [
          44.64
         ],
         "yaxis": "y"
        },
        {
         "hovertemplate": "neuronID=40<br>condition=%{x}<br>n_peaks=%{y}<extra></extra>",
         "legendgroup": "40",
         "line": {
          "color": "#636efa",
          "dash": "solid"
         },
         "mode": "lines",
         "name": "40",
         "orientation": "v",
         "showlegend": true,
         "type": "scatter",
         "x": [
          "awake"
         ],
         "xaxis": "x",
         "y": [
          101.16
         ],
         "yaxis": "y"
        },
        {
         "hovertemplate": "neuronID=41<br>condition=%{x}<br>n_peaks=%{y}<extra></extra>",
         "legendgroup": "41",
         "line": {
          "color": "#EF553B",
          "dash": "solid"
         },
         "mode": "lines",
         "name": "41",
         "orientation": "v",
         "showlegend": true,
         "type": "scatter",
         "x": [
          "awake"
         ],
         "xaxis": "x",
         "y": [
          116.64
         ],
         "yaxis": "y"
        },
        {
         "hovertemplate": "neuronID=42<br>condition=%{x}<br>n_peaks=%{y}<extra></extra>",
         "legendgroup": "42",
         "line": {
          "color": "#00cc96",
          "dash": "solid"
         },
         "mode": "lines",
         "name": "42",
         "orientation": "v",
         "showlegend": true,
         "type": "scatter",
         "x": [
          "awake"
         ],
         "xaxis": "x",
         "y": [
          119.52000000000001
         ],
         "yaxis": "y"
        },
        {
         "hovertemplate": "neuronID=43<br>condition=%{x}<br>n_peaks=%{y}<extra></extra>",
         "legendgroup": "43",
         "line": {
          "color": "#ab63fa",
          "dash": "solid"
         },
         "mode": "lines",
         "name": "43",
         "orientation": "v",
         "showlegend": true,
         "type": "scatter",
         "x": [
          "awake"
         ],
         "xaxis": "x",
         "y": [
          63.72
         ],
         "yaxis": "y"
        },
        {
         "hovertemplate": "neuronID=44<br>condition=%{x}<br>n_peaks=%{y}<extra></extra>",
         "legendgroup": "44",
         "line": {
          "color": "#FFA15A",
          "dash": "solid"
         },
         "mode": "lines",
         "name": "44",
         "orientation": "v",
         "showlegend": true,
         "type": "scatter",
         "x": [
          "awake"
         ],
         "xaxis": "x",
         "y": [
          24.84
         ],
         "yaxis": "y"
        },
        {
         "hovertemplate": "neuronID=45<br>condition=%{x}<br>n_peaks=%{y}<extra></extra>",
         "legendgroup": "45",
         "line": {
          "color": "#19d3f3",
          "dash": "solid"
         },
         "mode": "lines",
         "name": "45",
         "orientation": "v",
         "showlegend": true,
         "type": "scatter",
         "x": [
          "awake"
         ],
         "xaxis": "x",
         "y": [
          60.120000000000005
         ],
         "yaxis": "y"
        },
        {
         "hovertemplate": "neuronID=46<br>condition=%{x}<br>n_peaks=%{y}<extra></extra>",
         "legendgroup": "46",
         "line": {
          "color": "#FF6692",
          "dash": "solid"
         },
         "mode": "lines",
         "name": "46",
         "orientation": "v",
         "showlegend": true,
         "type": "scatter",
         "x": [
          "awake"
         ],
         "xaxis": "x",
         "y": [
          74.52
         ],
         "yaxis": "y"
        },
        {
         "hovertemplate": "neuronID=47<br>condition=%{x}<br>n_peaks=%{y}<extra></extra>",
         "legendgroup": "47",
         "line": {
          "color": "#B6E880",
          "dash": "solid"
         },
         "mode": "lines",
         "name": "47",
         "orientation": "v",
         "showlegend": true,
         "type": "scatter",
         "x": [
          "awake"
         ],
         "xaxis": "x",
         "y": [
          105.48
         ],
         "yaxis": "y"
        },
        {
         "hovertemplate": "neuronID=48<br>condition=%{x}<br>n_peaks=%{y}<extra></extra>",
         "legendgroup": "48",
         "line": {
          "color": "#FF97FF",
          "dash": "solid"
         },
         "mode": "lines",
         "name": "48",
         "orientation": "v",
         "showlegend": true,
         "type": "scatter",
         "x": [
          "awake"
         ],
         "xaxis": "x",
         "y": [
          38.52
         ],
         "yaxis": "y"
        },
        {
         "hovertemplate": "neuronID=49<br>condition=%{x}<br>n_peaks=%{y}<extra></extra>",
         "legendgroup": "49",
         "line": {
          "color": "#FECB52",
          "dash": "solid"
         },
         "mode": "lines",
         "name": "49",
         "orientation": "v",
         "showlegend": true,
         "type": "scatter",
         "x": [
          "awake"
         ],
         "xaxis": "x",
         "y": [
          38.52
         ],
         "yaxis": "y"
        }
       ],
       "layout": {
        "height": 600,
        "legend": {
         "title": {
          "text": "neuronID"
         },
         "tracegroupgap": 0
        },
        "margin": {
         "t": 60
        },
        "template": {
         "data": {
          "bar": [
           {
            "error_x": {
             "color": "#2a3f5f"
            },
            "error_y": {
             "color": "#2a3f5f"
            },
            "marker": {
             "line": {
              "color": "#E5ECF6",
              "width": 0.5
             }
            },
            "type": "bar"
           }
          ],
          "barpolar": [
           {
            "marker": {
             "line": {
              "color": "#E5ECF6",
              "width": 0.5
             }
            },
            "type": "barpolar"
           }
          ],
          "carpet": [
           {
            "aaxis": {
             "endlinecolor": "#2a3f5f",
             "gridcolor": "white",
             "linecolor": "white",
             "minorgridcolor": "white",
             "startlinecolor": "#2a3f5f"
            },
            "baxis": {
             "endlinecolor": "#2a3f5f",
             "gridcolor": "white",
             "linecolor": "white",
             "minorgridcolor": "white",
             "startlinecolor": "#2a3f5f"
            },
            "type": "carpet"
           }
          ],
          "choropleth": [
           {
            "colorbar": {
             "outlinewidth": 0,
             "ticks": ""
            },
            "type": "choropleth"
           }
          ],
          "contour": [
           {
            "colorbar": {
             "outlinewidth": 0,
             "ticks": ""
            },
            "colorscale": [
             [
              0,
              "#0d0887"
             ],
             [
              0.1111111111111111,
              "#46039f"
             ],
             [
              0.2222222222222222,
              "#7201a8"
             ],
             [
              0.3333333333333333,
              "#9c179e"
             ],
             [
              0.4444444444444444,
              "#bd3786"
             ],
             [
              0.5555555555555556,
              "#d8576b"
             ],
             [
              0.6666666666666666,
              "#ed7953"
             ],
             [
              0.7777777777777778,
              "#fb9f3a"
             ],
             [
              0.8888888888888888,
              "#fdca26"
             ],
             [
              1,
              "#f0f921"
             ]
            ],
            "type": "contour"
           }
          ],
          "contourcarpet": [
           {
            "colorbar": {
             "outlinewidth": 0,
             "ticks": ""
            },
            "type": "contourcarpet"
           }
          ],
          "heatmap": [
           {
            "colorbar": {
             "outlinewidth": 0,
             "ticks": ""
            },
            "colorscale": [
             [
              0,
              "#0d0887"
             ],
             [
              0.1111111111111111,
              "#46039f"
             ],
             [
              0.2222222222222222,
              "#7201a8"
             ],
             [
              0.3333333333333333,
              "#9c179e"
             ],
             [
              0.4444444444444444,
              "#bd3786"
             ],
             [
              0.5555555555555556,
              "#d8576b"
             ],
             [
              0.6666666666666666,
              "#ed7953"
             ],
             [
              0.7777777777777778,
              "#fb9f3a"
             ],
             [
              0.8888888888888888,
              "#fdca26"
             ],
             [
              1,
              "#f0f921"
             ]
            ],
            "type": "heatmap"
           }
          ],
          "heatmapgl": [
           {
            "colorbar": {
             "outlinewidth": 0,
             "ticks": ""
            },
            "colorscale": [
             [
              0,
              "#0d0887"
             ],
             [
              0.1111111111111111,
              "#46039f"
             ],
             [
              0.2222222222222222,
              "#7201a8"
             ],
             [
              0.3333333333333333,
              "#9c179e"
             ],
             [
              0.4444444444444444,
              "#bd3786"
             ],
             [
              0.5555555555555556,
              "#d8576b"
             ],
             [
              0.6666666666666666,
              "#ed7953"
             ],
             [
              0.7777777777777778,
              "#fb9f3a"
             ],
             [
              0.8888888888888888,
              "#fdca26"
             ],
             [
              1,
              "#f0f921"
             ]
            ],
            "type": "heatmapgl"
           }
          ],
          "histogram": [
           {
            "marker": {
             "colorbar": {
              "outlinewidth": 0,
              "ticks": ""
             }
            },
            "type": "histogram"
           }
          ],
          "histogram2d": [
           {
            "colorbar": {
             "outlinewidth": 0,
             "ticks": ""
            },
            "colorscale": [
             [
              0,
              "#0d0887"
             ],
             [
              0.1111111111111111,
              "#46039f"
             ],
             [
              0.2222222222222222,
              "#7201a8"
             ],
             [
              0.3333333333333333,
              "#9c179e"
             ],
             [
              0.4444444444444444,
              "#bd3786"
             ],
             [
              0.5555555555555556,
              "#d8576b"
             ],
             [
              0.6666666666666666,
              "#ed7953"
             ],
             [
              0.7777777777777778,
              "#fb9f3a"
             ],
             [
              0.8888888888888888,
              "#fdca26"
             ],
             [
              1,
              "#f0f921"
             ]
            ],
            "type": "histogram2d"
           }
          ],
          "histogram2dcontour": [
           {
            "colorbar": {
             "outlinewidth": 0,
             "ticks": ""
            },
            "colorscale": [
             [
              0,
              "#0d0887"
             ],
             [
              0.1111111111111111,
              "#46039f"
             ],
             [
              0.2222222222222222,
              "#7201a8"
             ],
             [
              0.3333333333333333,
              "#9c179e"
             ],
             [
              0.4444444444444444,
              "#bd3786"
             ],
             [
              0.5555555555555556,
              "#d8576b"
             ],
             [
              0.6666666666666666,
              "#ed7953"
             ],
             [
              0.7777777777777778,
              "#fb9f3a"
             ],
             [
              0.8888888888888888,
              "#fdca26"
             ],
             [
              1,
              "#f0f921"
             ]
            ],
            "type": "histogram2dcontour"
           }
          ],
          "mesh3d": [
           {
            "colorbar": {
             "outlinewidth": 0,
             "ticks": ""
            },
            "type": "mesh3d"
           }
          ],
          "parcoords": [
           {
            "line": {
             "colorbar": {
              "outlinewidth": 0,
              "ticks": ""
             }
            },
            "type": "parcoords"
           }
          ],
          "pie": [
           {
            "automargin": true,
            "type": "pie"
           }
          ],
          "scatter": [
           {
            "marker": {
             "colorbar": {
              "outlinewidth": 0,
              "ticks": ""
             }
            },
            "type": "scatter"
           }
          ],
          "scatter3d": [
           {
            "line": {
             "colorbar": {
              "outlinewidth": 0,
              "ticks": ""
             }
            },
            "marker": {
             "colorbar": {
              "outlinewidth": 0,
              "ticks": ""
             }
            },
            "type": "scatter3d"
           }
          ],
          "scattercarpet": [
           {
            "marker": {
             "colorbar": {
              "outlinewidth": 0,
              "ticks": ""
             }
            },
            "type": "scattercarpet"
           }
          ],
          "scattergeo": [
           {
            "marker": {
             "colorbar": {
              "outlinewidth": 0,
              "ticks": ""
             }
            },
            "type": "scattergeo"
           }
          ],
          "scattergl": [
           {
            "marker": {
             "colorbar": {
              "outlinewidth": 0,
              "ticks": ""
             }
            },
            "type": "scattergl"
           }
          ],
          "scattermapbox": [
           {
            "marker": {
             "colorbar": {
              "outlinewidth": 0,
              "ticks": ""
             }
            },
            "type": "scattermapbox"
           }
          ],
          "scatterpolar": [
           {
            "marker": {
             "colorbar": {
              "outlinewidth": 0,
              "ticks": ""
             }
            },
            "type": "scatterpolar"
           }
          ],
          "scatterpolargl": [
           {
            "marker": {
             "colorbar": {
              "outlinewidth": 0,
              "ticks": ""
             }
            },
            "type": "scatterpolargl"
           }
          ],
          "scatterternary": [
           {
            "marker": {
             "colorbar": {
              "outlinewidth": 0,
              "ticks": ""
             }
            },
            "type": "scatterternary"
           }
          ],
          "surface": [
           {
            "colorbar": {
             "outlinewidth": 0,
             "ticks": ""
            },
            "colorscale": [
             [
              0,
              "#0d0887"
             ],
             [
              0.1111111111111111,
              "#46039f"
             ],
             [
              0.2222222222222222,
              "#7201a8"
             ],
             [
              0.3333333333333333,
              "#9c179e"
             ],
             [
              0.4444444444444444,
              "#bd3786"
             ],
             [
              0.5555555555555556,
              "#d8576b"
             ],
             [
              0.6666666666666666,
              "#ed7953"
             ],
             [
              0.7777777777777778,
              "#fb9f3a"
             ],
             [
              0.8888888888888888,
              "#fdca26"
             ],
             [
              1,
              "#f0f921"
             ]
            ],
            "type": "surface"
           }
          ],
          "table": [
           {
            "cells": {
             "fill": {
              "color": "#EBF0F8"
             },
             "line": {
              "color": "white"
             }
            },
            "header": {
             "fill": {
              "color": "#C8D4E3"
             },
             "line": {
              "color": "white"
             }
            },
            "type": "table"
           }
          ]
         },
         "layout": {
          "annotationdefaults": {
           "arrowcolor": "#2a3f5f",
           "arrowhead": 0,
           "arrowwidth": 1
          },
          "autotypenumbers": "strict",
          "coloraxis": {
           "colorbar": {
            "outlinewidth": 0,
            "ticks": ""
           }
          },
          "colorscale": {
           "diverging": [
            [
             0,
             "#8e0152"
            ],
            [
             0.1,
             "#c51b7d"
            ],
            [
             0.2,
             "#de77ae"
            ],
            [
             0.3,
             "#f1b6da"
            ],
            [
             0.4,
             "#fde0ef"
            ],
            [
             0.5,
             "#f7f7f7"
            ],
            [
             0.6,
             "#e6f5d0"
            ],
            [
             0.7,
             "#b8e186"
            ],
            [
             0.8,
             "#7fbc41"
            ],
            [
             0.9,
             "#4d9221"
            ],
            [
             1,
             "#276419"
            ]
           ],
           "sequential": [
            [
             0,
             "#0d0887"
            ],
            [
             0.1111111111111111,
             "#46039f"
            ],
            [
             0.2222222222222222,
             "#7201a8"
            ],
            [
             0.3333333333333333,
             "#9c179e"
            ],
            [
             0.4444444444444444,
             "#bd3786"
            ],
            [
             0.5555555555555556,
             "#d8576b"
            ],
            [
             0.6666666666666666,
             "#ed7953"
            ],
            [
             0.7777777777777778,
             "#fb9f3a"
            ],
            [
             0.8888888888888888,
             "#fdca26"
            ],
            [
             1,
             "#f0f921"
            ]
           ],
           "sequentialminus": [
            [
             0,
             "#0d0887"
            ],
            [
             0.1111111111111111,
             "#46039f"
            ],
            [
             0.2222222222222222,
             "#7201a8"
            ],
            [
             0.3333333333333333,
             "#9c179e"
            ],
            [
             0.4444444444444444,
             "#bd3786"
            ],
            [
             0.5555555555555556,
             "#d8576b"
            ],
            [
             0.6666666666666666,
             "#ed7953"
            ],
            [
             0.7777777777777778,
             "#fb9f3a"
            ],
            [
             0.8888888888888888,
             "#fdca26"
            ],
            [
             1,
             "#f0f921"
            ]
           ]
          },
          "colorway": [
           "#636efa",
           "#EF553B",
           "#00cc96",
           "#ab63fa",
           "#FFA15A",
           "#19d3f3",
           "#FF6692",
           "#B6E880",
           "#FF97FF",
           "#FECB52"
          ],
          "font": {
           "color": "#2a3f5f"
          },
          "geo": {
           "bgcolor": "white",
           "lakecolor": "white",
           "landcolor": "#E5ECF6",
           "showlakes": true,
           "showland": true,
           "subunitcolor": "white"
          },
          "hoverlabel": {
           "align": "left"
          },
          "hovermode": "closest",
          "mapbox": {
           "style": "light"
          },
          "paper_bgcolor": "white",
          "plot_bgcolor": "#E5ECF6",
          "polar": {
           "angularaxis": {
            "gridcolor": "white",
            "linecolor": "white",
            "ticks": ""
           },
           "bgcolor": "#E5ECF6",
           "radialaxis": {
            "gridcolor": "white",
            "linecolor": "white",
            "ticks": ""
           }
          },
          "scene": {
           "xaxis": {
            "backgroundcolor": "#E5ECF6",
            "gridcolor": "white",
            "gridwidth": 2,
            "linecolor": "white",
            "showbackground": true,
            "ticks": "",
            "zerolinecolor": "white"
           },
           "yaxis": {
            "backgroundcolor": "#E5ECF6",
            "gridcolor": "white",
            "gridwidth": 2,
            "linecolor": "white",
            "showbackground": true,
            "ticks": "",
            "zerolinecolor": "white"
           },
           "zaxis": {
            "backgroundcolor": "#E5ECF6",
            "gridcolor": "white",
            "gridwidth": 2,
            "linecolor": "white",
            "showbackground": true,
            "ticks": "",
            "zerolinecolor": "white"
           }
          },
          "shapedefaults": {
           "line": {
            "color": "#2a3f5f"
           }
          },
          "ternary": {
           "aaxis": {
            "gridcolor": "white",
            "linecolor": "white",
            "ticks": ""
           },
           "baxis": {
            "gridcolor": "white",
            "linecolor": "white",
            "ticks": ""
           },
           "bgcolor": "#E5ECF6",
           "caxis": {
            "gridcolor": "white",
            "linecolor": "white",
            "ticks": ""
           }
          },
          "title": {
           "x": 0.05
          },
          "xaxis": {
           "automargin": true,
           "gridcolor": "white",
           "linecolor": "white",
           "ticks": "",
           "title": {
            "standoff": 15
           },
           "zerolinecolor": "white",
           "zerolinewidth": 2
          },
          "yaxis": {
           "automargin": true,
           "gridcolor": "white",
           "linecolor": "white",
           "ticks": "",
           "title": {
            "standoff": 15
           },
           "zerolinecolor": "white",
           "zerolinewidth": 2
          }
         }
        },
        "width": 1000,
        "xaxis": {
         "anchor": "y",
         "domain": [
          0,
          1
         ],
         "title": {
          "text": "condition"
         }
        },
        "yaxis": {
         "anchor": "x",
         "domain": [
          0,
          1
         ],
         "title": {
          "text": "n_peaks"
         }
        }
       }
      },
      "text/html": [
       "<div>                            <div id=\"a76c557a-77fd-4c82-9972-4b97bae1c093\" class=\"plotly-graph-div\" style=\"height:600px; width:1000px;\"></div>            <script type=\"text/javascript\">                require([\"plotly\"], function(Plotly) {                    window.PLOTLYENV=window.PLOTLYENV || {};                                    if (document.getElementById(\"a76c557a-77fd-4c82-9972-4b97bae1c093\")) {                    Plotly.newPlot(                        \"a76c557a-77fd-4c82-9972-4b97bae1c093\",                        [{\"hovertemplate\": \"neuronID=0<br>condition=%{x}<br>n_peaks=%{y}<extra></extra>\", \"legendgroup\": \"0\", \"line\": {\"color\": \"#636efa\", \"dash\": \"solid\"}, \"mode\": \"lines\", \"name\": \"0\", \"orientation\": \"v\", \"showlegend\": true, \"type\": \"scatter\", \"x\": [\"awake\"], \"xaxis\": \"x\", \"y\": [120.24000000000001], \"yaxis\": \"y\"}, {\"hovertemplate\": \"neuronID=1<br>condition=%{x}<br>n_peaks=%{y}<extra></extra>\", \"legendgroup\": \"1\", \"line\": {\"color\": \"#EF553B\", \"dash\": \"solid\"}, \"mode\": \"lines\", \"name\": \"1\", \"orientation\": \"v\", \"showlegend\": true, \"type\": \"scatter\", \"x\": [\"awake\"], \"xaxis\": \"x\", \"y\": [109.08], \"yaxis\": \"y\"}, {\"hovertemplate\": \"neuronID=2<br>condition=%{x}<br>n_peaks=%{y}<extra></extra>\", \"legendgroup\": \"2\", \"line\": {\"color\": \"#00cc96\", \"dash\": \"solid\"}, \"mode\": \"lines\", \"name\": \"2\", \"orientation\": \"v\", \"showlegend\": true, \"type\": \"scatter\", \"x\": [\"awake\"], \"xaxis\": \"x\", \"y\": [121.68], \"yaxis\": \"y\"}, {\"hovertemplate\": \"neuronID=3<br>condition=%{x}<br>n_peaks=%{y}<extra></extra>\", \"legendgroup\": \"3\", \"line\": {\"color\": \"#ab63fa\", \"dash\": \"solid\"}, \"mode\": \"lines\", \"name\": \"3\", \"orientation\": \"v\", \"showlegend\": true, \"type\": \"scatter\", \"x\": [\"awake\"], \"xaxis\": \"x\", \"y\": [106.56], \"yaxis\": \"y\"}, {\"hovertemplate\": \"neuronID=4<br>condition=%{x}<br>n_peaks=%{y}<extra></extra>\", \"legendgroup\": \"4\", \"line\": {\"color\": \"#FFA15A\", \"dash\": \"solid\"}, \"mode\": \"lines\", \"name\": \"4\", \"orientation\": \"v\", \"showlegend\": true, \"type\": \"scatter\", \"x\": [\"awake\"], \"xaxis\": \"x\", \"y\": [90.0], \"yaxis\": \"y\"}, {\"hovertemplate\": \"neuronID=5<br>condition=%{x}<br>n_peaks=%{y}<extra></extra>\", \"legendgroup\": \"5\", \"line\": {\"color\": \"#19d3f3\", \"dash\": \"solid\"}, \"mode\": \"lines\", \"name\": \"5\", \"orientation\": \"v\", \"showlegend\": true, \"type\": \"scatter\", \"x\": [\"awake\"], \"xaxis\": \"x\", \"y\": [81.0], \"yaxis\": \"y\"}, {\"hovertemplate\": \"neuronID=6<br>condition=%{x}<br>n_peaks=%{y}<extra></extra>\", \"legendgroup\": \"6\", \"line\": {\"color\": \"#FF6692\", \"dash\": \"solid\"}, \"mode\": \"lines\", \"name\": \"6\", \"orientation\": \"v\", \"showlegend\": true, \"type\": \"scatter\", \"x\": [\"awake\"], \"xaxis\": \"x\", \"y\": [52.92], \"yaxis\": \"y\"}, {\"hovertemplate\": \"neuronID=7<br>condition=%{x}<br>n_peaks=%{y}<extra></extra>\", \"legendgroup\": \"7\", \"line\": {\"color\": \"#B6E880\", \"dash\": \"solid\"}, \"mode\": \"lines\", \"name\": \"7\", \"orientation\": \"v\", \"showlegend\": true, \"type\": \"scatter\", \"x\": [\"awake\"], \"xaxis\": \"x\", \"y\": [111.96000000000001], \"yaxis\": \"y\"}, {\"hovertemplate\": \"neuronID=8<br>condition=%{x}<br>n_peaks=%{y}<extra></extra>\", \"legendgroup\": \"8\", \"line\": {\"color\": \"#FF97FF\", \"dash\": \"solid\"}, \"mode\": \"lines\", \"name\": \"8\", \"orientation\": \"v\", \"showlegend\": true, \"type\": \"scatter\", \"x\": [\"awake\"], \"xaxis\": \"x\", \"y\": [118.8], \"yaxis\": \"y\"}, {\"hovertemplate\": \"neuronID=9<br>condition=%{x}<br>n_peaks=%{y}<extra></extra>\", \"legendgroup\": \"9\", \"line\": {\"color\": \"#FECB52\", \"dash\": \"solid\"}, \"mode\": \"lines\", \"name\": \"9\", \"orientation\": \"v\", \"showlegend\": true, \"type\": \"scatter\", \"x\": [\"awake\"], \"xaxis\": \"x\", \"y\": [94.32000000000001], \"yaxis\": \"y\"}, {\"hovertemplate\": \"neuronID=10<br>condition=%{x}<br>n_peaks=%{y}<extra></extra>\", \"legendgroup\": \"10\", \"line\": {\"color\": \"#636efa\", \"dash\": \"solid\"}, \"mode\": \"lines\", \"name\": \"10\", \"orientation\": \"v\", \"showlegend\": true, \"type\": \"scatter\", \"x\": [\"awake\"], \"xaxis\": \"x\", \"y\": [129.24], \"yaxis\": \"y\"}, {\"hovertemplate\": \"neuronID=11<br>condition=%{x}<br>n_peaks=%{y}<extra></extra>\", \"legendgroup\": \"11\", \"line\": {\"color\": \"#EF553B\", \"dash\": \"solid\"}, \"mode\": \"lines\", \"name\": \"11\", \"orientation\": \"v\", \"showlegend\": true, \"type\": \"scatter\", \"x\": [\"awake\"], \"xaxis\": \"x\", \"y\": [65.88], \"yaxis\": \"y\"}, {\"hovertemplate\": \"neuronID=12<br>condition=%{x}<br>n_peaks=%{y}<extra></extra>\", \"legendgroup\": \"12\", \"line\": {\"color\": \"#00cc96\", \"dash\": \"solid\"}, \"mode\": \"lines\", \"name\": \"12\", \"orientation\": \"v\", \"showlegend\": true, \"type\": \"scatter\", \"x\": [\"awake\"], \"xaxis\": \"x\", \"y\": [117.0], \"yaxis\": \"y\"}, {\"hovertemplate\": \"neuronID=13<br>condition=%{x}<br>n_peaks=%{y}<extra></extra>\", \"legendgroup\": \"13\", \"line\": {\"color\": \"#ab63fa\", \"dash\": \"solid\"}, \"mode\": \"lines\", \"name\": \"13\", \"orientation\": \"v\", \"showlegend\": true, \"type\": \"scatter\", \"x\": [\"awake\"], \"xaxis\": \"x\", \"y\": [115.56], \"yaxis\": \"y\"}, {\"hovertemplate\": \"neuronID=14<br>condition=%{x}<br>n_peaks=%{y}<extra></extra>\", \"legendgroup\": \"14\", \"line\": {\"color\": \"#FFA15A\", \"dash\": \"solid\"}, \"mode\": \"lines\", \"name\": \"14\", \"orientation\": \"v\", \"showlegend\": true, \"type\": \"scatter\", \"x\": [\"awake\"], \"xaxis\": \"x\", \"y\": [114.84], \"yaxis\": \"y\"}, {\"hovertemplate\": \"neuronID=15<br>condition=%{x}<br>n_peaks=%{y}<extra></extra>\", \"legendgroup\": \"15\", \"line\": {\"color\": \"#19d3f3\", \"dash\": \"solid\"}, \"mode\": \"lines\", \"name\": \"15\", \"orientation\": \"v\", \"showlegend\": true, \"type\": \"scatter\", \"x\": [\"awake\"], \"xaxis\": \"x\", \"y\": [102.96000000000001], \"yaxis\": \"y\"}, {\"hovertemplate\": \"neuronID=16<br>condition=%{x}<br>n_peaks=%{y}<extra></extra>\", \"legendgroup\": \"16\", \"line\": {\"color\": \"#FF6692\", \"dash\": \"solid\"}, \"mode\": \"lines\", \"name\": \"16\", \"orientation\": \"v\", \"showlegend\": true, \"type\": \"scatter\", \"x\": [\"awake\"], \"xaxis\": \"x\", \"y\": [112.32000000000001], \"yaxis\": \"y\"}, {\"hovertemplate\": \"neuronID=17<br>condition=%{x}<br>n_peaks=%{y}<extra></extra>\", \"legendgroup\": \"17\", \"line\": {\"color\": \"#B6E880\", \"dash\": \"solid\"}, \"mode\": \"lines\", \"name\": \"17\", \"orientation\": \"v\", \"showlegend\": true, \"type\": \"scatter\", \"x\": [\"awake\"], \"xaxis\": \"x\", \"y\": [117.0], \"yaxis\": \"y\"}, {\"hovertemplate\": \"neuronID=18<br>condition=%{x}<br>n_peaks=%{y}<extra></extra>\", \"legendgroup\": \"18\", \"line\": {\"color\": \"#FF97FF\", \"dash\": \"solid\"}, \"mode\": \"lines\", \"name\": \"18\", \"orientation\": \"v\", \"showlegend\": true, \"type\": \"scatter\", \"x\": [\"awake\"], \"xaxis\": \"x\", \"y\": [105.12], \"yaxis\": \"y\"}, {\"hovertemplate\": \"neuronID=19<br>condition=%{x}<br>n_peaks=%{y}<extra></extra>\", \"legendgroup\": \"19\", \"line\": {\"color\": \"#FECB52\", \"dash\": \"solid\"}, \"mode\": \"lines\", \"name\": \"19\", \"orientation\": \"v\", \"showlegend\": true, \"type\": \"scatter\", \"x\": [\"awake\"], \"xaxis\": \"x\", \"y\": [75.96000000000001], \"yaxis\": \"y\"}, {\"hovertemplate\": \"neuronID=20<br>condition=%{x}<br>n_peaks=%{y}<extra></extra>\", \"legendgroup\": \"20\", \"line\": {\"color\": \"#636efa\", \"dash\": \"solid\"}, \"mode\": \"lines\", \"name\": \"20\", \"orientation\": \"v\", \"showlegend\": true, \"type\": \"scatter\", \"x\": [\"awake\"], \"xaxis\": \"x\", \"y\": [113.4], \"yaxis\": \"y\"}, {\"hovertemplate\": \"neuronID=21<br>condition=%{x}<br>n_peaks=%{y}<extra></extra>\", \"legendgroup\": \"21\", \"line\": {\"color\": \"#EF553B\", \"dash\": \"solid\"}, \"mode\": \"lines\", \"name\": \"21\", \"orientation\": \"v\", \"showlegend\": true, \"type\": \"scatter\", \"x\": [\"awake\"], \"xaxis\": \"x\", \"y\": [76.68], \"yaxis\": \"y\"}, {\"hovertemplate\": \"neuronID=22<br>condition=%{x}<br>n_peaks=%{y}<extra></extra>\", \"legendgroup\": \"22\", \"line\": {\"color\": \"#00cc96\", \"dash\": \"solid\"}, \"mode\": \"lines\", \"name\": \"22\", \"orientation\": \"v\", \"showlegend\": true, \"type\": \"scatter\", \"x\": [\"awake\"], \"xaxis\": \"x\", \"y\": [124.56], \"yaxis\": \"y\"}, {\"hovertemplate\": \"neuronID=23<br>condition=%{x}<br>n_peaks=%{y}<extra></extra>\", \"legendgroup\": \"23\", \"line\": {\"color\": \"#ab63fa\", \"dash\": \"solid\"}, \"mode\": \"lines\", \"name\": \"23\", \"orientation\": \"v\", \"showlegend\": true, \"type\": \"scatter\", \"x\": [\"awake\"], \"xaxis\": \"x\", \"y\": [126.0], \"yaxis\": \"y\"}, {\"hovertemplate\": \"neuronID=24<br>condition=%{x}<br>n_peaks=%{y}<extra></extra>\", \"legendgroup\": \"24\", \"line\": {\"color\": \"#FFA15A\", \"dash\": \"solid\"}, \"mode\": \"lines\", \"name\": \"24\", \"orientation\": \"v\", \"showlegend\": true, \"type\": \"scatter\", \"x\": [\"awake\"], \"xaxis\": \"x\", \"y\": [113.4], \"yaxis\": \"y\"}, {\"hovertemplate\": \"neuronID=25<br>condition=%{x}<br>n_peaks=%{y}<extra></extra>\", \"legendgroup\": \"25\", \"line\": {\"color\": \"#19d3f3\", \"dash\": \"solid\"}, \"mode\": \"lines\", \"name\": \"25\", \"orientation\": \"v\", \"showlegend\": true, \"type\": \"scatter\", \"x\": [\"awake\"], \"xaxis\": \"x\", \"y\": [112.32000000000001], \"yaxis\": \"y\"}, {\"hovertemplate\": \"neuronID=26<br>condition=%{x}<br>n_peaks=%{y}<extra></extra>\", \"legendgroup\": \"26\", \"line\": {\"color\": \"#FF6692\", \"dash\": \"solid\"}, \"mode\": \"lines\", \"name\": \"26\", \"orientation\": \"v\", \"showlegend\": true, \"type\": \"scatter\", \"x\": [\"awake\"], \"xaxis\": \"x\", \"y\": [120.60000000000001], \"yaxis\": \"y\"}, {\"hovertemplate\": \"neuronID=27<br>condition=%{x}<br>n_peaks=%{y}<extra></extra>\", \"legendgroup\": \"27\", \"line\": {\"color\": \"#B6E880\", \"dash\": \"solid\"}, \"mode\": \"lines\", \"name\": \"27\", \"orientation\": \"v\", \"showlegend\": true, \"type\": \"scatter\", \"x\": [\"awake\"], \"xaxis\": \"x\", \"y\": [121.68], \"yaxis\": \"y\"}, {\"hovertemplate\": \"neuronID=28<br>condition=%{x}<br>n_peaks=%{y}<extra></extra>\", \"legendgroup\": \"28\", \"line\": {\"color\": \"#FF97FF\", \"dash\": \"solid\"}, \"mode\": \"lines\", \"name\": \"28\", \"orientation\": \"v\", \"showlegend\": true, \"type\": \"scatter\", \"x\": [\"awake\"], \"xaxis\": \"x\", \"y\": [34.92], \"yaxis\": \"y\"}, {\"hovertemplate\": \"neuronID=29<br>condition=%{x}<br>n_peaks=%{y}<extra></extra>\", \"legendgroup\": \"29\", \"line\": {\"color\": \"#FECB52\", \"dash\": \"solid\"}, \"mode\": \"lines\", \"name\": \"29\", \"orientation\": \"v\", \"showlegend\": true, \"type\": \"scatter\", \"x\": [\"awake\"], \"xaxis\": \"x\", \"y\": [65.88], \"yaxis\": \"y\"}, {\"hovertemplate\": \"neuronID=30<br>condition=%{x}<br>n_peaks=%{y}<extra></extra>\", \"legendgroup\": \"30\", \"line\": {\"color\": \"#636efa\", \"dash\": \"solid\"}, \"mode\": \"lines\", \"name\": \"30\", \"orientation\": \"v\", \"showlegend\": true, \"type\": \"scatter\", \"x\": [\"awake\"], \"xaxis\": \"x\", \"y\": [97.2], \"yaxis\": \"y\"}, {\"hovertemplate\": \"neuronID=31<br>condition=%{x}<br>n_peaks=%{y}<extra></extra>\", \"legendgroup\": \"31\", \"line\": {\"color\": \"#EF553B\", \"dash\": \"solid\"}, \"mode\": \"lines\", \"name\": \"31\", \"orientation\": \"v\", \"showlegend\": true, \"type\": \"scatter\", \"x\": [\"awake\"], \"xaxis\": \"x\", \"y\": [92.88000000000001], \"yaxis\": \"y\"}, {\"hovertemplate\": \"neuronID=32<br>condition=%{x}<br>n_peaks=%{y}<extra></extra>\", \"legendgroup\": \"32\", \"line\": {\"color\": \"#00cc96\", \"dash\": \"solid\"}, \"mode\": \"lines\", \"name\": \"32\", \"orientation\": \"v\", \"showlegend\": true, \"type\": \"scatter\", \"x\": [\"awake\"], \"xaxis\": \"x\", \"y\": [102.96000000000001], \"yaxis\": \"y\"}, {\"hovertemplate\": \"neuronID=33<br>condition=%{x}<br>n_peaks=%{y}<extra></extra>\", \"legendgroup\": \"33\", \"line\": {\"color\": \"#ab63fa\", \"dash\": \"solid\"}, \"mode\": \"lines\", \"name\": \"33\", \"orientation\": \"v\", \"showlegend\": true, \"type\": \"scatter\", \"x\": [\"awake\"], \"xaxis\": \"x\", \"y\": [51.480000000000004], \"yaxis\": \"y\"}, {\"hovertemplate\": \"neuronID=34<br>condition=%{x}<br>n_peaks=%{y}<extra></extra>\", \"legendgroup\": \"34\", \"line\": {\"color\": \"#FFA15A\", \"dash\": \"solid\"}, \"mode\": \"lines\", \"name\": \"34\", \"orientation\": \"v\", \"showlegend\": true, \"type\": \"scatter\", \"x\": [\"awake\"], \"xaxis\": \"x\", \"y\": [97.56], \"yaxis\": \"y\"}, {\"hovertemplate\": \"neuronID=35<br>condition=%{x}<br>n_peaks=%{y}<extra></extra>\", \"legendgroup\": \"35\", \"line\": {\"color\": \"#19d3f3\", \"dash\": \"solid\"}, \"mode\": \"lines\", \"name\": \"35\", \"orientation\": \"v\", \"showlegend\": true, \"type\": \"scatter\", \"x\": [\"awake\"], \"xaxis\": \"x\", \"y\": [14.4], \"yaxis\": \"y\"}, {\"hovertemplate\": \"neuronID=36<br>condition=%{x}<br>n_peaks=%{y}<extra></extra>\", \"legendgroup\": \"36\", \"line\": {\"color\": \"#FF6692\", \"dash\": \"solid\"}, \"mode\": \"lines\", \"name\": \"36\", \"orientation\": \"v\", \"showlegend\": true, \"type\": \"scatter\", \"x\": [\"awake\"], \"xaxis\": \"x\", \"y\": [116.64], \"yaxis\": \"y\"}, {\"hovertemplate\": \"neuronID=37<br>condition=%{x}<br>n_peaks=%{y}<extra></extra>\", \"legendgroup\": \"37\", \"line\": {\"color\": \"#B6E880\", \"dash\": \"solid\"}, \"mode\": \"lines\", \"name\": \"37\", \"orientation\": \"v\", \"showlegend\": true, \"type\": \"scatter\", \"x\": [\"awake\"], \"xaxis\": \"x\", \"y\": [0.0], \"yaxis\": \"y\"}, {\"hovertemplate\": \"neuronID=38<br>condition=%{x}<br>n_peaks=%{y}<extra></extra>\", \"legendgroup\": \"38\", \"line\": {\"color\": \"#FF97FF\", \"dash\": \"solid\"}, \"mode\": \"lines\", \"name\": \"38\", \"orientation\": \"v\", \"showlegend\": true, \"type\": \"scatter\", \"x\": [\"awake\"], \"xaxis\": \"x\", \"y\": [95.4], \"yaxis\": \"y\"}, {\"hovertemplate\": \"neuronID=39<br>condition=%{x}<br>n_peaks=%{y}<extra></extra>\", \"legendgroup\": \"39\", \"line\": {\"color\": \"#FECB52\", \"dash\": \"solid\"}, \"mode\": \"lines\", \"name\": \"39\", \"orientation\": \"v\", \"showlegend\": true, \"type\": \"scatter\", \"x\": [\"awake\"], \"xaxis\": \"x\", \"y\": [44.64], \"yaxis\": \"y\"}, {\"hovertemplate\": \"neuronID=40<br>condition=%{x}<br>n_peaks=%{y}<extra></extra>\", \"legendgroup\": \"40\", \"line\": {\"color\": \"#636efa\", \"dash\": \"solid\"}, \"mode\": \"lines\", \"name\": \"40\", \"orientation\": \"v\", \"showlegend\": true, \"type\": \"scatter\", \"x\": [\"awake\"], \"xaxis\": \"x\", \"y\": [101.16], \"yaxis\": \"y\"}, {\"hovertemplate\": \"neuronID=41<br>condition=%{x}<br>n_peaks=%{y}<extra></extra>\", \"legendgroup\": \"41\", \"line\": {\"color\": \"#EF553B\", \"dash\": \"solid\"}, \"mode\": \"lines\", \"name\": \"41\", \"orientation\": \"v\", \"showlegend\": true, \"type\": \"scatter\", \"x\": [\"awake\"], \"xaxis\": \"x\", \"y\": [116.64], \"yaxis\": \"y\"}, {\"hovertemplate\": \"neuronID=42<br>condition=%{x}<br>n_peaks=%{y}<extra></extra>\", \"legendgroup\": \"42\", \"line\": {\"color\": \"#00cc96\", \"dash\": \"solid\"}, \"mode\": \"lines\", \"name\": \"42\", \"orientation\": \"v\", \"showlegend\": true, \"type\": \"scatter\", \"x\": [\"awake\"], \"xaxis\": \"x\", \"y\": [119.52000000000001], \"yaxis\": \"y\"}, {\"hovertemplate\": \"neuronID=43<br>condition=%{x}<br>n_peaks=%{y}<extra></extra>\", \"legendgroup\": \"43\", \"line\": {\"color\": \"#ab63fa\", \"dash\": \"solid\"}, \"mode\": \"lines\", \"name\": \"43\", \"orientation\": \"v\", \"showlegend\": true, \"type\": \"scatter\", \"x\": [\"awake\"], \"xaxis\": \"x\", \"y\": [63.72], \"yaxis\": \"y\"}, {\"hovertemplate\": \"neuronID=44<br>condition=%{x}<br>n_peaks=%{y}<extra></extra>\", \"legendgroup\": \"44\", \"line\": {\"color\": \"#FFA15A\", \"dash\": \"solid\"}, \"mode\": \"lines\", \"name\": \"44\", \"orientation\": \"v\", \"showlegend\": true, \"type\": \"scatter\", \"x\": [\"awake\"], \"xaxis\": \"x\", \"y\": [24.84], \"yaxis\": \"y\"}, {\"hovertemplate\": \"neuronID=45<br>condition=%{x}<br>n_peaks=%{y}<extra></extra>\", \"legendgroup\": \"45\", \"line\": {\"color\": \"#19d3f3\", \"dash\": \"solid\"}, \"mode\": \"lines\", \"name\": \"45\", \"orientation\": \"v\", \"showlegend\": true, \"type\": \"scatter\", \"x\": [\"awake\"], \"xaxis\": \"x\", \"y\": [60.120000000000005], \"yaxis\": \"y\"}, {\"hovertemplate\": \"neuronID=46<br>condition=%{x}<br>n_peaks=%{y}<extra></extra>\", \"legendgroup\": \"46\", \"line\": {\"color\": \"#FF6692\", \"dash\": \"solid\"}, \"mode\": \"lines\", \"name\": \"46\", \"orientation\": \"v\", \"showlegend\": true, \"type\": \"scatter\", \"x\": [\"awake\"], \"xaxis\": \"x\", \"y\": [74.52], \"yaxis\": \"y\"}, {\"hovertemplate\": \"neuronID=47<br>condition=%{x}<br>n_peaks=%{y}<extra></extra>\", \"legendgroup\": \"47\", \"line\": {\"color\": \"#B6E880\", \"dash\": \"solid\"}, \"mode\": \"lines\", \"name\": \"47\", \"orientation\": \"v\", \"showlegend\": true, \"type\": \"scatter\", \"x\": [\"awake\"], \"xaxis\": \"x\", \"y\": [105.48], \"yaxis\": \"y\"}, {\"hovertemplate\": \"neuronID=48<br>condition=%{x}<br>n_peaks=%{y}<extra></extra>\", \"legendgroup\": \"48\", \"line\": {\"color\": \"#FF97FF\", \"dash\": \"solid\"}, \"mode\": \"lines\", \"name\": \"48\", \"orientation\": \"v\", \"showlegend\": true, \"type\": \"scatter\", \"x\": [\"awake\"], \"xaxis\": \"x\", \"y\": [38.52], \"yaxis\": \"y\"}, {\"hovertemplate\": \"neuronID=49<br>condition=%{x}<br>n_peaks=%{y}<extra></extra>\", \"legendgroup\": \"49\", \"line\": {\"color\": \"#FECB52\", \"dash\": \"solid\"}, \"mode\": \"lines\", \"name\": \"49\", \"orientation\": \"v\", \"showlegend\": true, \"type\": \"scatter\", \"x\": [\"awake\"], \"xaxis\": \"x\", \"y\": [38.52], \"yaxis\": \"y\"}],                        {\"height\": 600, \"legend\": {\"title\": {\"text\": \"neuronID\"}, \"tracegroupgap\": 0}, \"margin\": {\"t\": 60}, \"template\": {\"data\": {\"bar\": [{\"error_x\": {\"color\": \"#2a3f5f\"}, \"error_y\": {\"color\": \"#2a3f5f\"}, \"marker\": {\"line\": {\"color\": \"#E5ECF6\", \"width\": 0.5}}, \"type\": \"bar\"}], \"barpolar\": [{\"marker\": {\"line\": {\"color\": \"#E5ECF6\", \"width\": 0.5}}, \"type\": \"barpolar\"}], \"carpet\": [{\"aaxis\": {\"endlinecolor\": \"#2a3f5f\", \"gridcolor\": \"white\", \"linecolor\": \"white\", \"minorgridcolor\": \"white\", \"startlinecolor\": \"#2a3f5f\"}, \"baxis\": {\"endlinecolor\": \"#2a3f5f\", \"gridcolor\": \"white\", \"linecolor\": \"white\", \"minorgridcolor\": \"white\", \"startlinecolor\": \"#2a3f5f\"}, \"type\": \"carpet\"}], \"choropleth\": [{\"colorbar\": {\"outlinewidth\": 0, \"ticks\": \"\"}, \"type\": \"choropleth\"}], \"contour\": [{\"colorbar\": {\"outlinewidth\": 0, \"ticks\": \"\"}, \"colorscale\": [[0.0, \"#0d0887\"], [0.1111111111111111, \"#46039f\"], [0.2222222222222222, \"#7201a8\"], [0.3333333333333333, \"#9c179e\"], [0.4444444444444444, \"#bd3786\"], [0.5555555555555556, \"#d8576b\"], [0.6666666666666666, \"#ed7953\"], [0.7777777777777778, \"#fb9f3a\"], [0.8888888888888888, \"#fdca26\"], [1.0, \"#f0f921\"]], \"type\": \"contour\"}], \"contourcarpet\": [{\"colorbar\": {\"outlinewidth\": 0, \"ticks\": \"\"}, \"type\": \"contourcarpet\"}], \"heatmap\": [{\"colorbar\": {\"outlinewidth\": 0, \"ticks\": \"\"}, \"colorscale\": [[0.0, \"#0d0887\"], [0.1111111111111111, \"#46039f\"], [0.2222222222222222, \"#7201a8\"], [0.3333333333333333, \"#9c179e\"], [0.4444444444444444, \"#bd3786\"], [0.5555555555555556, \"#d8576b\"], [0.6666666666666666, \"#ed7953\"], [0.7777777777777778, \"#fb9f3a\"], [0.8888888888888888, \"#fdca26\"], [1.0, \"#f0f921\"]], \"type\": \"heatmap\"}], \"heatmapgl\": [{\"colorbar\": {\"outlinewidth\": 0, \"ticks\": \"\"}, \"colorscale\": [[0.0, \"#0d0887\"], [0.1111111111111111, \"#46039f\"], [0.2222222222222222, \"#7201a8\"], [0.3333333333333333, \"#9c179e\"], [0.4444444444444444, \"#bd3786\"], [0.5555555555555556, \"#d8576b\"], [0.6666666666666666, \"#ed7953\"], [0.7777777777777778, \"#fb9f3a\"], [0.8888888888888888, \"#fdca26\"], [1.0, \"#f0f921\"]], \"type\": \"heatmapgl\"}], \"histogram\": [{\"marker\": {\"colorbar\": {\"outlinewidth\": 0, \"ticks\": \"\"}}, \"type\": \"histogram\"}], \"histogram2d\": [{\"colorbar\": {\"outlinewidth\": 0, \"ticks\": \"\"}, \"colorscale\": [[0.0, \"#0d0887\"], [0.1111111111111111, \"#46039f\"], [0.2222222222222222, \"#7201a8\"], [0.3333333333333333, \"#9c179e\"], [0.4444444444444444, \"#bd3786\"], [0.5555555555555556, \"#d8576b\"], [0.6666666666666666, \"#ed7953\"], [0.7777777777777778, \"#fb9f3a\"], [0.8888888888888888, \"#fdca26\"], [1.0, \"#f0f921\"]], \"type\": \"histogram2d\"}], \"histogram2dcontour\": [{\"colorbar\": {\"outlinewidth\": 0, \"ticks\": \"\"}, \"colorscale\": [[0.0, \"#0d0887\"], [0.1111111111111111, \"#46039f\"], [0.2222222222222222, \"#7201a8\"], [0.3333333333333333, \"#9c179e\"], [0.4444444444444444, \"#bd3786\"], [0.5555555555555556, \"#d8576b\"], [0.6666666666666666, \"#ed7953\"], [0.7777777777777778, \"#fb9f3a\"], [0.8888888888888888, \"#fdca26\"], [1.0, \"#f0f921\"]], \"type\": \"histogram2dcontour\"}], \"mesh3d\": [{\"colorbar\": {\"outlinewidth\": 0, \"ticks\": \"\"}, \"type\": \"mesh3d\"}], \"parcoords\": [{\"line\": {\"colorbar\": {\"outlinewidth\": 0, \"ticks\": \"\"}}, \"type\": \"parcoords\"}], \"pie\": [{\"automargin\": true, \"type\": \"pie\"}], \"scatter\": [{\"marker\": {\"colorbar\": {\"outlinewidth\": 0, \"ticks\": \"\"}}, \"type\": \"scatter\"}], \"scatter3d\": [{\"line\": {\"colorbar\": {\"outlinewidth\": 0, \"ticks\": \"\"}}, \"marker\": {\"colorbar\": {\"outlinewidth\": 0, \"ticks\": \"\"}}, \"type\": \"scatter3d\"}], \"scattercarpet\": [{\"marker\": {\"colorbar\": {\"outlinewidth\": 0, \"ticks\": \"\"}}, \"type\": \"scattercarpet\"}], \"scattergeo\": [{\"marker\": {\"colorbar\": {\"outlinewidth\": 0, \"ticks\": \"\"}}, \"type\": \"scattergeo\"}], \"scattergl\": [{\"marker\": {\"colorbar\": {\"outlinewidth\": 0, \"ticks\": \"\"}}, \"type\": \"scattergl\"}], \"scattermapbox\": [{\"marker\": {\"colorbar\": {\"outlinewidth\": 0, \"ticks\": \"\"}}, \"type\": \"scattermapbox\"}], \"scatterpolar\": [{\"marker\": {\"colorbar\": {\"outlinewidth\": 0, \"ticks\": \"\"}}, \"type\": \"scatterpolar\"}], \"scatterpolargl\": [{\"marker\": {\"colorbar\": {\"outlinewidth\": 0, \"ticks\": \"\"}}, \"type\": \"scatterpolargl\"}], \"scatterternary\": [{\"marker\": {\"colorbar\": {\"outlinewidth\": 0, \"ticks\": \"\"}}, \"type\": \"scatterternary\"}], \"surface\": [{\"colorbar\": {\"outlinewidth\": 0, \"ticks\": \"\"}, \"colorscale\": [[0.0, \"#0d0887\"], [0.1111111111111111, \"#46039f\"], [0.2222222222222222, \"#7201a8\"], [0.3333333333333333, \"#9c179e\"], [0.4444444444444444, \"#bd3786\"], [0.5555555555555556, \"#d8576b\"], [0.6666666666666666, \"#ed7953\"], [0.7777777777777778, \"#fb9f3a\"], [0.8888888888888888, \"#fdca26\"], [1.0, \"#f0f921\"]], \"type\": \"surface\"}], \"table\": [{\"cells\": {\"fill\": {\"color\": \"#EBF0F8\"}, \"line\": {\"color\": \"white\"}}, \"header\": {\"fill\": {\"color\": \"#C8D4E3\"}, \"line\": {\"color\": \"white\"}}, \"type\": \"table\"}]}, \"layout\": {\"annotationdefaults\": {\"arrowcolor\": \"#2a3f5f\", \"arrowhead\": 0, \"arrowwidth\": 1}, \"autotypenumbers\": \"strict\", \"coloraxis\": {\"colorbar\": {\"outlinewidth\": 0, \"ticks\": \"\"}}, \"colorscale\": {\"diverging\": [[0, \"#8e0152\"], [0.1, \"#c51b7d\"], [0.2, \"#de77ae\"], [0.3, \"#f1b6da\"], [0.4, \"#fde0ef\"], [0.5, \"#f7f7f7\"], [0.6, \"#e6f5d0\"], [0.7, \"#b8e186\"], [0.8, \"#7fbc41\"], [0.9, \"#4d9221\"], [1, \"#276419\"]], \"sequential\": [[0.0, \"#0d0887\"], [0.1111111111111111, \"#46039f\"], [0.2222222222222222, \"#7201a8\"], [0.3333333333333333, \"#9c179e\"], [0.4444444444444444, \"#bd3786\"], [0.5555555555555556, \"#d8576b\"], [0.6666666666666666, \"#ed7953\"], [0.7777777777777778, \"#fb9f3a\"], [0.8888888888888888, \"#fdca26\"], [1.0, \"#f0f921\"]], \"sequentialminus\": [[0.0, \"#0d0887\"], [0.1111111111111111, \"#46039f\"], [0.2222222222222222, \"#7201a8\"], [0.3333333333333333, \"#9c179e\"], [0.4444444444444444, \"#bd3786\"], [0.5555555555555556, \"#d8576b\"], [0.6666666666666666, \"#ed7953\"], [0.7777777777777778, \"#fb9f3a\"], [0.8888888888888888, \"#fdca26\"], [1.0, \"#f0f921\"]]}, \"colorway\": [\"#636efa\", \"#EF553B\", \"#00cc96\", \"#ab63fa\", \"#FFA15A\", \"#19d3f3\", \"#FF6692\", \"#B6E880\", \"#FF97FF\", \"#FECB52\"], \"font\": {\"color\": \"#2a3f5f\"}, \"geo\": {\"bgcolor\": \"white\", \"lakecolor\": \"white\", \"landcolor\": \"#E5ECF6\", \"showlakes\": true, \"showland\": true, \"subunitcolor\": \"white\"}, \"hoverlabel\": {\"align\": \"left\"}, \"hovermode\": \"closest\", \"mapbox\": {\"style\": \"light\"}, \"paper_bgcolor\": \"white\", \"plot_bgcolor\": \"#E5ECF6\", \"polar\": {\"angularaxis\": {\"gridcolor\": \"white\", \"linecolor\": \"white\", \"ticks\": \"\"}, \"bgcolor\": \"#E5ECF6\", \"radialaxis\": {\"gridcolor\": \"white\", \"linecolor\": \"white\", \"ticks\": \"\"}}, \"scene\": {\"xaxis\": {\"backgroundcolor\": \"#E5ECF6\", \"gridcolor\": \"white\", \"gridwidth\": 2, \"linecolor\": \"white\", \"showbackground\": true, \"ticks\": \"\", \"zerolinecolor\": \"white\"}, \"yaxis\": {\"backgroundcolor\": \"#E5ECF6\", \"gridcolor\": \"white\", \"gridwidth\": 2, \"linecolor\": \"white\", \"showbackground\": true, \"ticks\": \"\", \"zerolinecolor\": \"white\"}, \"zaxis\": {\"backgroundcolor\": \"#E5ECF6\", \"gridcolor\": \"white\", \"gridwidth\": 2, \"linecolor\": \"white\", \"showbackground\": true, \"ticks\": \"\", \"zerolinecolor\": \"white\"}}, \"shapedefaults\": {\"line\": {\"color\": \"#2a3f5f\"}}, \"ternary\": {\"aaxis\": {\"gridcolor\": \"white\", \"linecolor\": \"white\", \"ticks\": \"\"}, \"baxis\": {\"gridcolor\": \"white\", \"linecolor\": \"white\", \"ticks\": \"\"}, \"bgcolor\": \"#E5ECF6\", \"caxis\": {\"gridcolor\": \"white\", \"linecolor\": \"white\", \"ticks\": \"\"}}, \"title\": {\"x\": 0.05}, \"xaxis\": {\"automargin\": true, \"gridcolor\": \"white\", \"linecolor\": \"white\", \"ticks\": \"\", \"title\": {\"standoff\": 15}, \"zerolinecolor\": \"white\", \"zerolinewidth\": 2}, \"yaxis\": {\"automargin\": true, \"gridcolor\": \"white\", \"linecolor\": \"white\", \"ticks\": \"\", \"title\": {\"standoff\": 15}, \"zerolinecolor\": \"white\", \"zerolinewidth\": 2}}}, \"width\": 1000, \"xaxis\": {\"anchor\": \"y\", \"domain\": [0.0, 1.0], \"title\": {\"text\": \"condition\"}}, \"yaxis\": {\"anchor\": \"x\", \"domain\": [0.0, 1.0], \"title\": {\"text\": \"n_peaks\"}}},                        {\"responsive\": true}                    ).then(function(){\n",
       "                            \n",
       "var gd = document.getElementById('a76c557a-77fd-4c82-9972-4b97bae1c093');\n",
       "var x = new MutationObserver(function (mutations, observer) {{\n",
       "        var display = window.getComputedStyle(gd).display;\n",
       "        if (!display || display === 'none') {{\n",
       "            console.log([gd, 'removed!']);\n",
       "            Plotly.purge(gd);\n",
       "            observer.disconnect();\n",
       "        }}\n",
       "}});\n",
       "\n",
       "// Listen for the removal of the full notebook cells\n",
       "var notebookContainer = gd.closest('#notebook-container');\n",
       "if (notebookContainer) {{\n",
       "    x.observe(notebookContainer, {childList: true});\n",
       "}}\n",
       "\n",
       "// Listen for the clearing of the current output cell\n",
       "var outputEl = gd.closest('.output');\n",
       "if (outputEl) {{\n",
       "    x.observe(outputEl, {childList: true});\n",
       "}}\n",
       "\n",
       "                        })                };                });            </script>        </div>"
      ]
     },
     "metadata": {},
     "output_type": "display_data"
    }
   ],
   "source": [
    "import plotly.express as px\n",
    "\n",
    "x_axis = \"condition\"\n",
    "y_axis = \"n_peaks\"\n",
    "line_group = \"neuronID\"\n",
    "color = \"neuronID\"\n",
    "\n",
    "fig = px.line(df_estimators[df_estimators.neuronID<50], x=x_axis, y=y_axis, line_group=line_group,color=color,width=1000, height=600)\n",
    "\n",
    "#fig.write_image(\"n_peaks_interactive.svg\")\n",
    "\n",
    "fig.show()"
   ]
  },
  {
   "cell_type": "code",
   "execution_count": 6,
   "metadata": {},
   "outputs": [
    {
     "data": {
      "application/vnd.plotly.v1+json": {
       "config": {
        "plotlyServerURL": "https://plot.ly"
       },
       "data": [
        {
         "hovertemplate": "condition=%{x}<br>n_peaks=%{y}<br>decay_no_isol=%{marker.size}<br>height.median=%{marker.color}<extra></extra>",
         "legendgroup": "",
         "marker": {
          "color": [
           528.0272827148438,
           390.7986145019531,
           404.2056427001953,
           351.5499572753906,
           339.3159942626953,
           252.31248474121094,
           213.0230255126953,
           345.16961669921875,
           471.72283935546875,
           319.3056335449219,
           832.5751953125,
           211.68756103515625,
           483.6197814941406,
           459.2770690917969,
           412.60247802734375,
           249.6560287475586,
           423.82005310058594,
           478.3929748535156,
           550.3772277832031,
           248.31903076171875,
           351.1283874511719,
           536.0621948242188,
           455.67250061035156,
           713.6666564941406,
           321.8571472167969,
           457.04737854003906,
           521.7315063476562,
           653.900634765625,
           185.34286499023438,
           399.4944763183594,
           273.0164031982422,
           265.4293212890625,
           468.1243133544922,
           259.6565856933594,
           311.66693115234375,
           200.55634307861328,
           383.4642639160156,
           null,
           266.84906005859375,
           202.2910919189453,
           302.52056884765625,
           357.1112365722656,
           500.6632385253906,
           229.60818481445312,
           198.65115356445312,
           245.08493041992188,
           235.6400146484375,
           314.47381591796875,
           278.04754638671875,
           192.9842071533203
          ],
          "coloraxis": "coloraxis",
          "size": [
           0.9789372284338193,
           0.9826812937084652,
           1.161295779982118,
           1.092924983960358,
           0.9210776389813626,
           0.5326188967146217,
           0.5738142848386126,
           0.2152411477622547,
           0.6348504563845269,
           1.2382491347089013,
           1.1432302431270127,
           1.2716334767721407,
           0.9007649961073828,
           0.5234940465963602,
           0.5338516043760447,
           0.35603941571204584,
           0.4447512802183219,
           1.2797807266737269,
           1.4224316820823832,
           0.5483288481832836,
           0.41177102764594486,
           1.495079154583813,
           1.566428244903403,
           1.1685038243218049,
           0.1824295812955484,
           1.3930386654022964,
           1.5743823934964654,
           0.13154687656015207,
           0.012112480635923788,
           1.3853918508486474,
           1.3144929339232228,
           1.1423629613843744,
           1.460993614937158,
           1.5161547319810025,
           0.395946962380278,
           0.6237791425133771,
           0.3552618893291561,
           1.189357064514427,
           1.0344651754923957,
           1.3746060581557549,
           0.6357234248037004,
           1.3387857000293604,
           1.4669000841425888,
           1.6093972874279978,
           1.4753178179646782,
           0.2423173313492929,
           1.3726829581073088,
           0.5189815447635664,
           1.3193721420685247,
           1.0775265471042172
          ],
          "sizemode": "area",
          "sizeref": 0.004023493218569995,
          "symbol": "circle"
         },
         "mode": "markers",
         "name": "",
         "orientation": "v",
         "showlegend": false,
         "type": "scatter",
         "x": [
          "awake",
          "awake",
          "awake",
          "awake",
          "awake",
          "awake",
          "awake",
          "awake",
          "awake",
          "awake",
          "awake",
          "awake",
          "awake",
          "awake",
          "awake",
          "awake",
          "awake",
          "awake",
          "awake",
          "awake",
          "awake",
          "awake",
          "awake",
          "awake",
          "awake",
          "awake",
          "awake",
          "awake",
          "awake",
          "awake",
          "awake",
          "awake",
          "awake",
          "awake",
          "awake",
          "awake",
          "awake",
          "awake",
          "awake",
          "awake",
          "awake",
          "awake",
          "awake",
          "awake",
          "awake",
          "awake",
          "awake",
          "awake",
          "awake",
          "awake"
         ],
         "xaxis": "x",
         "y": [
          120.24000000000001,
          109.08,
          121.68,
          106.56,
          90,
          81,
          52.92,
          111.96000000000001,
          118.8,
          94.32000000000001,
          129.24,
          65.88,
          117,
          115.56,
          114.84,
          102.96000000000001,
          112.32000000000001,
          117,
          105.12,
          75.96000000000001,
          113.4,
          76.68,
          124.56,
          126,
          113.4,
          112.32000000000001,
          120.60000000000001,
          121.68,
          34.92,
          65.88,
          97.2,
          92.88000000000001,
          102.96000000000001,
          51.480000000000004,
          97.56,
          14.4,
          116.64,
          0,
          95.4,
          44.64,
          101.16,
          116.64,
          119.52000000000001,
          63.72,
          24.84,
          60.120000000000005,
          74.52,
          105.48,
          38.52,
          38.52
         ],
         "yaxis": "y"
        }
       ],
       "layout": {
        "coloraxis": {
         "colorbar": {
          "title": {
           "text": "height.median"
          }
         },
         "colorscale": [
          [
           0,
           "#0d0887"
          ],
          [
           0.1111111111111111,
           "#46039f"
          ],
          [
           0.2222222222222222,
           "#7201a8"
          ],
          [
           0.3333333333333333,
           "#9c179e"
          ],
          [
           0.4444444444444444,
           "#bd3786"
          ],
          [
           0.5555555555555556,
           "#d8576b"
          ],
          [
           0.6666666666666666,
           "#ed7953"
          ],
          [
           0.7777777777777778,
           "#fb9f3a"
          ],
          [
           0.8888888888888888,
           "#fdca26"
          ],
          [
           1,
           "#f0f921"
          ]
         ]
        },
        "height": 600,
        "legend": {
         "itemsizing": "constant",
         "tracegroupgap": 0
        },
        "margin": {
         "t": 60
        },
        "template": {
         "data": {
          "bar": [
           {
            "error_x": {
             "color": "#2a3f5f"
            },
            "error_y": {
             "color": "#2a3f5f"
            },
            "marker": {
             "line": {
              "color": "#E5ECF6",
              "width": 0.5
             }
            },
            "type": "bar"
           }
          ],
          "barpolar": [
           {
            "marker": {
             "line": {
              "color": "#E5ECF6",
              "width": 0.5
             }
            },
            "type": "barpolar"
           }
          ],
          "carpet": [
           {
            "aaxis": {
             "endlinecolor": "#2a3f5f",
             "gridcolor": "white",
             "linecolor": "white",
             "minorgridcolor": "white",
             "startlinecolor": "#2a3f5f"
            },
            "baxis": {
             "endlinecolor": "#2a3f5f",
             "gridcolor": "white",
             "linecolor": "white",
             "minorgridcolor": "white",
             "startlinecolor": "#2a3f5f"
            },
            "type": "carpet"
           }
          ],
          "choropleth": [
           {
            "colorbar": {
             "outlinewidth": 0,
             "ticks": ""
            },
            "type": "choropleth"
           }
          ],
          "contour": [
           {
            "colorbar": {
             "outlinewidth": 0,
             "ticks": ""
            },
            "colorscale": [
             [
              0,
              "#0d0887"
             ],
             [
              0.1111111111111111,
              "#46039f"
             ],
             [
              0.2222222222222222,
              "#7201a8"
             ],
             [
              0.3333333333333333,
              "#9c179e"
             ],
             [
              0.4444444444444444,
              "#bd3786"
             ],
             [
              0.5555555555555556,
              "#d8576b"
             ],
             [
              0.6666666666666666,
              "#ed7953"
             ],
             [
              0.7777777777777778,
              "#fb9f3a"
             ],
             [
              0.8888888888888888,
              "#fdca26"
             ],
             [
              1,
              "#f0f921"
             ]
            ],
            "type": "contour"
           }
          ],
          "contourcarpet": [
           {
            "colorbar": {
             "outlinewidth": 0,
             "ticks": ""
            },
            "type": "contourcarpet"
           }
          ],
          "heatmap": [
           {
            "colorbar": {
             "outlinewidth": 0,
             "ticks": ""
            },
            "colorscale": [
             [
              0,
              "#0d0887"
             ],
             [
              0.1111111111111111,
              "#46039f"
             ],
             [
              0.2222222222222222,
              "#7201a8"
             ],
             [
              0.3333333333333333,
              "#9c179e"
             ],
             [
              0.4444444444444444,
              "#bd3786"
             ],
             [
              0.5555555555555556,
              "#d8576b"
             ],
             [
              0.6666666666666666,
              "#ed7953"
             ],
             [
              0.7777777777777778,
              "#fb9f3a"
             ],
             [
              0.8888888888888888,
              "#fdca26"
             ],
             [
              1,
              "#f0f921"
             ]
            ],
            "type": "heatmap"
           }
          ],
          "heatmapgl": [
           {
            "colorbar": {
             "outlinewidth": 0,
             "ticks": ""
            },
            "colorscale": [
             [
              0,
              "#0d0887"
             ],
             [
              0.1111111111111111,
              "#46039f"
             ],
             [
              0.2222222222222222,
              "#7201a8"
             ],
             [
              0.3333333333333333,
              "#9c179e"
             ],
             [
              0.4444444444444444,
              "#bd3786"
             ],
             [
              0.5555555555555556,
              "#d8576b"
             ],
             [
              0.6666666666666666,
              "#ed7953"
             ],
             [
              0.7777777777777778,
              "#fb9f3a"
             ],
             [
              0.8888888888888888,
              "#fdca26"
             ],
             [
              1,
              "#f0f921"
             ]
            ],
            "type": "heatmapgl"
           }
          ],
          "histogram": [
           {
            "marker": {
             "colorbar": {
              "outlinewidth": 0,
              "ticks": ""
             }
            },
            "type": "histogram"
           }
          ],
          "histogram2d": [
           {
            "colorbar": {
             "outlinewidth": 0,
             "ticks": ""
            },
            "colorscale": [
             [
              0,
              "#0d0887"
             ],
             [
              0.1111111111111111,
              "#46039f"
             ],
             [
              0.2222222222222222,
              "#7201a8"
             ],
             [
              0.3333333333333333,
              "#9c179e"
             ],
             [
              0.4444444444444444,
              "#bd3786"
             ],
             [
              0.5555555555555556,
              "#d8576b"
             ],
             [
              0.6666666666666666,
              "#ed7953"
             ],
             [
              0.7777777777777778,
              "#fb9f3a"
             ],
             [
              0.8888888888888888,
              "#fdca26"
             ],
             [
              1,
              "#f0f921"
             ]
            ],
            "type": "histogram2d"
           }
          ],
          "histogram2dcontour": [
           {
            "colorbar": {
             "outlinewidth": 0,
             "ticks": ""
            },
            "colorscale": [
             [
              0,
              "#0d0887"
             ],
             [
              0.1111111111111111,
              "#46039f"
             ],
             [
              0.2222222222222222,
              "#7201a8"
             ],
             [
              0.3333333333333333,
              "#9c179e"
             ],
             [
              0.4444444444444444,
              "#bd3786"
             ],
             [
              0.5555555555555556,
              "#d8576b"
             ],
             [
              0.6666666666666666,
              "#ed7953"
             ],
             [
              0.7777777777777778,
              "#fb9f3a"
             ],
             [
              0.8888888888888888,
              "#fdca26"
             ],
             [
              1,
              "#f0f921"
             ]
            ],
            "type": "histogram2dcontour"
           }
          ],
          "mesh3d": [
           {
            "colorbar": {
             "outlinewidth": 0,
             "ticks": ""
            },
            "type": "mesh3d"
           }
          ],
          "parcoords": [
           {
            "line": {
             "colorbar": {
              "outlinewidth": 0,
              "ticks": ""
             }
            },
            "type": "parcoords"
           }
          ],
          "pie": [
           {
            "automargin": true,
            "type": "pie"
           }
          ],
          "scatter": [
           {
            "marker": {
             "colorbar": {
              "outlinewidth": 0,
              "ticks": ""
             }
            },
            "type": "scatter"
           }
          ],
          "scatter3d": [
           {
            "line": {
             "colorbar": {
              "outlinewidth": 0,
              "ticks": ""
             }
            },
            "marker": {
             "colorbar": {
              "outlinewidth": 0,
              "ticks": ""
             }
            },
            "type": "scatter3d"
           }
          ],
          "scattercarpet": [
           {
            "marker": {
             "colorbar": {
              "outlinewidth": 0,
              "ticks": ""
             }
            },
            "type": "scattercarpet"
           }
          ],
          "scattergeo": [
           {
            "marker": {
             "colorbar": {
              "outlinewidth": 0,
              "ticks": ""
             }
            },
            "type": "scattergeo"
           }
          ],
          "scattergl": [
           {
            "marker": {
             "colorbar": {
              "outlinewidth": 0,
              "ticks": ""
             }
            },
            "type": "scattergl"
           }
          ],
          "scattermapbox": [
           {
            "marker": {
             "colorbar": {
              "outlinewidth": 0,
              "ticks": ""
             }
            },
            "type": "scattermapbox"
           }
          ],
          "scatterpolar": [
           {
            "marker": {
             "colorbar": {
              "outlinewidth": 0,
              "ticks": ""
             }
            },
            "type": "scatterpolar"
           }
          ],
          "scatterpolargl": [
           {
            "marker": {
             "colorbar": {
              "outlinewidth": 0,
              "ticks": ""
             }
            },
            "type": "scatterpolargl"
           }
          ],
          "scatterternary": [
           {
            "marker": {
             "colorbar": {
              "outlinewidth": 0,
              "ticks": ""
             }
            },
            "type": "scatterternary"
           }
          ],
          "surface": [
           {
            "colorbar": {
             "outlinewidth": 0,
             "ticks": ""
            },
            "colorscale": [
             [
              0,
              "#0d0887"
             ],
             [
              0.1111111111111111,
              "#46039f"
             ],
             [
              0.2222222222222222,
              "#7201a8"
             ],
             [
              0.3333333333333333,
              "#9c179e"
             ],
             [
              0.4444444444444444,
              "#bd3786"
             ],
             [
              0.5555555555555556,
              "#d8576b"
             ],
             [
              0.6666666666666666,
              "#ed7953"
             ],
             [
              0.7777777777777778,
              "#fb9f3a"
             ],
             [
              0.8888888888888888,
              "#fdca26"
             ],
             [
              1,
              "#f0f921"
             ]
            ],
            "type": "surface"
           }
          ],
          "table": [
           {
            "cells": {
             "fill": {
              "color": "#EBF0F8"
             },
             "line": {
              "color": "white"
             }
            },
            "header": {
             "fill": {
              "color": "#C8D4E3"
             },
             "line": {
              "color": "white"
             }
            },
            "type": "table"
           }
          ]
         },
         "layout": {
          "annotationdefaults": {
           "arrowcolor": "#2a3f5f",
           "arrowhead": 0,
           "arrowwidth": 1
          },
          "autotypenumbers": "strict",
          "coloraxis": {
           "colorbar": {
            "outlinewidth": 0,
            "ticks": ""
           }
          },
          "colorscale": {
           "diverging": [
            [
             0,
             "#8e0152"
            ],
            [
             0.1,
             "#c51b7d"
            ],
            [
             0.2,
             "#de77ae"
            ],
            [
             0.3,
             "#f1b6da"
            ],
            [
             0.4,
             "#fde0ef"
            ],
            [
             0.5,
             "#f7f7f7"
            ],
            [
             0.6,
             "#e6f5d0"
            ],
            [
             0.7,
             "#b8e186"
            ],
            [
             0.8,
             "#7fbc41"
            ],
            [
             0.9,
             "#4d9221"
            ],
            [
             1,
             "#276419"
            ]
           ],
           "sequential": [
            [
             0,
             "#0d0887"
            ],
            [
             0.1111111111111111,
             "#46039f"
            ],
            [
             0.2222222222222222,
             "#7201a8"
            ],
            [
             0.3333333333333333,
             "#9c179e"
            ],
            [
             0.4444444444444444,
             "#bd3786"
            ],
            [
             0.5555555555555556,
             "#d8576b"
            ],
            [
             0.6666666666666666,
             "#ed7953"
            ],
            [
             0.7777777777777778,
             "#fb9f3a"
            ],
            [
             0.8888888888888888,
             "#fdca26"
            ],
            [
             1,
             "#f0f921"
            ]
           ],
           "sequentialminus": [
            [
             0,
             "#0d0887"
            ],
            [
             0.1111111111111111,
             "#46039f"
            ],
            [
             0.2222222222222222,
             "#7201a8"
            ],
            [
             0.3333333333333333,
             "#9c179e"
            ],
            [
             0.4444444444444444,
             "#bd3786"
            ],
            [
             0.5555555555555556,
             "#d8576b"
            ],
            [
             0.6666666666666666,
             "#ed7953"
            ],
            [
             0.7777777777777778,
             "#fb9f3a"
            ],
            [
             0.8888888888888888,
             "#fdca26"
            ],
            [
             1,
             "#f0f921"
            ]
           ]
          },
          "colorway": [
           "#636efa",
           "#EF553B",
           "#00cc96",
           "#ab63fa",
           "#FFA15A",
           "#19d3f3",
           "#FF6692",
           "#B6E880",
           "#FF97FF",
           "#FECB52"
          ],
          "font": {
           "color": "#2a3f5f"
          },
          "geo": {
           "bgcolor": "white",
           "lakecolor": "white",
           "landcolor": "#E5ECF6",
           "showlakes": true,
           "showland": true,
           "subunitcolor": "white"
          },
          "hoverlabel": {
           "align": "left"
          },
          "hovermode": "closest",
          "mapbox": {
           "style": "light"
          },
          "paper_bgcolor": "white",
          "plot_bgcolor": "#E5ECF6",
          "polar": {
           "angularaxis": {
            "gridcolor": "white",
            "linecolor": "white",
            "ticks": ""
           },
           "bgcolor": "#E5ECF6",
           "radialaxis": {
            "gridcolor": "white",
            "linecolor": "white",
            "ticks": ""
           }
          },
          "scene": {
           "xaxis": {
            "backgroundcolor": "#E5ECF6",
            "gridcolor": "white",
            "gridwidth": 2,
            "linecolor": "white",
            "showbackground": true,
            "ticks": "",
            "zerolinecolor": "white"
           },
           "yaxis": {
            "backgroundcolor": "#E5ECF6",
            "gridcolor": "white",
            "gridwidth": 2,
            "linecolor": "white",
            "showbackground": true,
            "ticks": "",
            "zerolinecolor": "white"
           },
           "zaxis": {
            "backgroundcolor": "#E5ECF6",
            "gridcolor": "white",
            "gridwidth": 2,
            "linecolor": "white",
            "showbackground": true,
            "ticks": "",
            "zerolinecolor": "white"
           }
          },
          "shapedefaults": {
           "line": {
            "color": "#2a3f5f"
           }
          },
          "ternary": {
           "aaxis": {
            "gridcolor": "white",
            "linecolor": "white",
            "ticks": ""
           },
           "baxis": {
            "gridcolor": "white",
            "linecolor": "white",
            "ticks": ""
           },
           "bgcolor": "#E5ECF6",
           "caxis": {
            "gridcolor": "white",
            "linecolor": "white",
            "ticks": ""
           }
          },
          "title": {
           "x": 0.05
          },
          "xaxis": {
           "automargin": true,
           "gridcolor": "white",
           "linecolor": "white",
           "ticks": "",
           "title": {
            "standoff": 15
           },
           "zerolinecolor": "white",
           "zerolinewidth": 2
          },
          "yaxis": {
           "automargin": true,
           "gridcolor": "white",
           "linecolor": "white",
           "ticks": "",
           "title": {
            "standoff": 15
           },
           "zerolinecolor": "white",
           "zerolinewidth": 2
          }
         }
        },
        "width": 1000,
        "xaxis": {
         "anchor": "y",
         "domain": [
          0,
          1
         ],
         "title": {
          "text": "condition"
         }
        },
        "yaxis": {
         "anchor": "x",
         "domain": [
          0,
          1
         ],
         "title": {
          "text": "n_peaks"
         }
        }
       }
      },
      "text/html": [
       "<div>                            <div id=\"f3f3c899-4443-46b3-91fd-0f032cb20522\" class=\"plotly-graph-div\" style=\"height:600px; width:1000px;\"></div>            <script type=\"text/javascript\">                require([\"plotly\"], function(Plotly) {                    window.PLOTLYENV=window.PLOTLYENV || {};                                    if (document.getElementById(\"f3f3c899-4443-46b3-91fd-0f032cb20522\")) {                    Plotly.newPlot(                        \"f3f3c899-4443-46b3-91fd-0f032cb20522\",                        [{\"hovertemplate\": \"condition=%{x}<br>n_peaks=%{y}<br>decay_no_isol=%{marker.size}<br>height.median=%{marker.color}<extra></extra>\", \"legendgroup\": \"\", \"marker\": {\"color\": [528.0272827148438, 390.7986145019531, 404.2056427001953, 351.5499572753906, 339.3159942626953, 252.31248474121094, 213.0230255126953, 345.16961669921875, 471.72283935546875, 319.3056335449219, 832.5751953125, 211.68756103515625, 483.6197814941406, 459.2770690917969, 412.60247802734375, 249.6560287475586, 423.82005310058594, 478.3929748535156, 550.3772277832031, 248.31903076171875, 351.1283874511719, 536.0621948242188, 455.67250061035156, 713.6666564941406, 321.8571472167969, 457.04737854003906, 521.7315063476562, 653.900634765625, 185.34286499023438, 399.4944763183594, 273.0164031982422, 265.4293212890625, 468.1243133544922, 259.6565856933594, 311.66693115234375, 200.55634307861328, 383.4642639160156, null, 266.84906005859375, 202.2910919189453, 302.52056884765625, 357.1112365722656, 500.6632385253906, 229.60818481445312, 198.65115356445312, 245.08493041992188, 235.6400146484375, 314.47381591796875, 278.04754638671875, 192.9842071533203], \"coloraxis\": \"coloraxis\", \"size\": [0.9789372284338193, 0.9826812937084652, 1.161295779982118, 1.092924983960358, 0.9210776389813626, 0.5326188967146217, 0.5738142848386126, 0.2152411477622547, 0.6348504563845269, 1.2382491347089013, 1.1432302431270127, 1.2716334767721407, 0.9007649961073828, 0.5234940465963602, 0.5338516043760447, 0.35603941571204584, 0.4447512802183219, 1.2797807266737269, 1.4224316820823832, 0.5483288481832836, 0.41177102764594486, 1.495079154583813, 1.566428244903403, 1.1685038243218049, 0.1824295812955484, 1.3930386654022964, 1.5743823934964654, 0.13154687656015207, 0.012112480635923788, 1.3853918508486474, 1.3144929339232228, 1.1423629613843744, 1.460993614937158, 1.5161547319810025, 0.395946962380278, 0.6237791425133771, 0.3552618893291561, 1.189357064514427, 1.0344651754923957, 1.3746060581557549, 0.6357234248037004, 1.3387857000293604, 1.4669000841425888, 1.6093972874279978, 1.4753178179646782, 0.2423173313492929, 1.3726829581073088, 0.5189815447635664, 1.3193721420685247, 1.0775265471042172], \"sizemode\": \"area\", \"sizeref\": 0.004023493218569995, \"symbol\": \"circle\"}, \"mode\": \"markers\", \"name\": \"\", \"orientation\": \"v\", \"showlegend\": false, \"type\": \"scatter\", \"x\": [\"awake\", \"awake\", \"awake\", \"awake\", \"awake\", \"awake\", \"awake\", \"awake\", \"awake\", \"awake\", \"awake\", \"awake\", \"awake\", \"awake\", \"awake\", \"awake\", \"awake\", \"awake\", \"awake\", \"awake\", \"awake\", \"awake\", \"awake\", \"awake\", \"awake\", \"awake\", \"awake\", \"awake\", \"awake\", \"awake\", \"awake\", \"awake\", \"awake\", \"awake\", \"awake\", \"awake\", \"awake\", \"awake\", \"awake\", \"awake\", \"awake\", \"awake\", \"awake\", \"awake\", \"awake\", \"awake\", \"awake\", \"awake\", \"awake\", \"awake\"], \"xaxis\": \"x\", \"y\": [120.24000000000001, 109.08, 121.68, 106.56, 90.0, 81.0, 52.92, 111.96000000000001, 118.8, 94.32000000000001, 129.24, 65.88, 117.0, 115.56, 114.84, 102.96000000000001, 112.32000000000001, 117.0, 105.12, 75.96000000000001, 113.4, 76.68, 124.56, 126.0, 113.4, 112.32000000000001, 120.60000000000001, 121.68, 34.92, 65.88, 97.2, 92.88000000000001, 102.96000000000001, 51.480000000000004, 97.56, 14.4, 116.64, 0.0, 95.4, 44.64, 101.16, 116.64, 119.52000000000001, 63.72, 24.84, 60.120000000000005, 74.52, 105.48, 38.52, 38.52], \"yaxis\": \"y\"}],                        {\"coloraxis\": {\"colorbar\": {\"title\": {\"text\": \"height.median\"}}, \"colorscale\": [[0.0, \"#0d0887\"], [0.1111111111111111, \"#46039f\"], [0.2222222222222222, \"#7201a8\"], [0.3333333333333333, \"#9c179e\"], [0.4444444444444444, \"#bd3786\"], [0.5555555555555556, \"#d8576b\"], [0.6666666666666666, \"#ed7953\"], [0.7777777777777778, \"#fb9f3a\"], [0.8888888888888888, \"#fdca26\"], [1.0, \"#f0f921\"]]}, \"height\": 600, \"legend\": {\"itemsizing\": \"constant\", \"tracegroupgap\": 0}, \"margin\": {\"t\": 60}, \"template\": {\"data\": {\"bar\": [{\"error_x\": {\"color\": \"#2a3f5f\"}, \"error_y\": {\"color\": \"#2a3f5f\"}, \"marker\": {\"line\": {\"color\": \"#E5ECF6\", \"width\": 0.5}}, \"type\": \"bar\"}], \"barpolar\": [{\"marker\": {\"line\": {\"color\": \"#E5ECF6\", \"width\": 0.5}}, \"type\": \"barpolar\"}], \"carpet\": [{\"aaxis\": {\"endlinecolor\": \"#2a3f5f\", \"gridcolor\": \"white\", \"linecolor\": \"white\", \"minorgridcolor\": \"white\", \"startlinecolor\": \"#2a3f5f\"}, \"baxis\": {\"endlinecolor\": \"#2a3f5f\", \"gridcolor\": \"white\", \"linecolor\": \"white\", \"minorgridcolor\": \"white\", \"startlinecolor\": \"#2a3f5f\"}, \"type\": \"carpet\"}], \"choropleth\": [{\"colorbar\": {\"outlinewidth\": 0, \"ticks\": \"\"}, \"type\": \"choropleth\"}], \"contour\": [{\"colorbar\": {\"outlinewidth\": 0, \"ticks\": \"\"}, \"colorscale\": [[0.0, \"#0d0887\"], [0.1111111111111111, \"#46039f\"], [0.2222222222222222, \"#7201a8\"], [0.3333333333333333, \"#9c179e\"], [0.4444444444444444, \"#bd3786\"], [0.5555555555555556, \"#d8576b\"], [0.6666666666666666, \"#ed7953\"], [0.7777777777777778, \"#fb9f3a\"], [0.8888888888888888, \"#fdca26\"], [1.0, \"#f0f921\"]], \"type\": \"contour\"}], \"contourcarpet\": [{\"colorbar\": {\"outlinewidth\": 0, \"ticks\": \"\"}, \"type\": \"contourcarpet\"}], \"heatmap\": [{\"colorbar\": {\"outlinewidth\": 0, \"ticks\": \"\"}, \"colorscale\": [[0.0, \"#0d0887\"], [0.1111111111111111, \"#46039f\"], [0.2222222222222222, \"#7201a8\"], [0.3333333333333333, \"#9c179e\"], [0.4444444444444444, \"#bd3786\"], [0.5555555555555556, \"#d8576b\"], [0.6666666666666666, \"#ed7953\"], [0.7777777777777778, \"#fb9f3a\"], [0.8888888888888888, \"#fdca26\"], [1.0, \"#f0f921\"]], \"type\": \"heatmap\"}], \"heatmapgl\": [{\"colorbar\": {\"outlinewidth\": 0, \"ticks\": \"\"}, \"colorscale\": [[0.0, \"#0d0887\"], [0.1111111111111111, \"#46039f\"], [0.2222222222222222, \"#7201a8\"], [0.3333333333333333, \"#9c179e\"], [0.4444444444444444, \"#bd3786\"], [0.5555555555555556, \"#d8576b\"], [0.6666666666666666, \"#ed7953\"], [0.7777777777777778, \"#fb9f3a\"], [0.8888888888888888, \"#fdca26\"], [1.0, \"#f0f921\"]], \"type\": \"heatmapgl\"}], \"histogram\": [{\"marker\": {\"colorbar\": {\"outlinewidth\": 0, \"ticks\": \"\"}}, \"type\": \"histogram\"}], \"histogram2d\": [{\"colorbar\": {\"outlinewidth\": 0, \"ticks\": \"\"}, \"colorscale\": [[0.0, \"#0d0887\"], [0.1111111111111111, \"#46039f\"], [0.2222222222222222, \"#7201a8\"], [0.3333333333333333, \"#9c179e\"], [0.4444444444444444, \"#bd3786\"], [0.5555555555555556, \"#d8576b\"], [0.6666666666666666, \"#ed7953\"], [0.7777777777777778, \"#fb9f3a\"], [0.8888888888888888, \"#fdca26\"], [1.0, \"#f0f921\"]], \"type\": \"histogram2d\"}], \"histogram2dcontour\": [{\"colorbar\": {\"outlinewidth\": 0, \"ticks\": \"\"}, \"colorscale\": [[0.0, \"#0d0887\"], [0.1111111111111111, \"#46039f\"], [0.2222222222222222, \"#7201a8\"], [0.3333333333333333, \"#9c179e\"], [0.4444444444444444, \"#bd3786\"], [0.5555555555555556, \"#d8576b\"], [0.6666666666666666, \"#ed7953\"], [0.7777777777777778, \"#fb9f3a\"], [0.8888888888888888, \"#fdca26\"], [1.0, \"#f0f921\"]], \"type\": \"histogram2dcontour\"}], \"mesh3d\": [{\"colorbar\": {\"outlinewidth\": 0, \"ticks\": \"\"}, \"type\": \"mesh3d\"}], \"parcoords\": [{\"line\": {\"colorbar\": {\"outlinewidth\": 0, \"ticks\": \"\"}}, \"type\": \"parcoords\"}], \"pie\": [{\"automargin\": true, \"type\": \"pie\"}], \"scatter\": [{\"marker\": {\"colorbar\": {\"outlinewidth\": 0, \"ticks\": \"\"}}, \"type\": \"scatter\"}], \"scatter3d\": [{\"line\": {\"colorbar\": {\"outlinewidth\": 0, \"ticks\": \"\"}}, \"marker\": {\"colorbar\": {\"outlinewidth\": 0, \"ticks\": \"\"}}, \"type\": \"scatter3d\"}], \"scattercarpet\": [{\"marker\": {\"colorbar\": {\"outlinewidth\": 0, \"ticks\": \"\"}}, \"type\": \"scattercarpet\"}], \"scattergeo\": [{\"marker\": {\"colorbar\": {\"outlinewidth\": 0, \"ticks\": \"\"}}, \"type\": \"scattergeo\"}], \"scattergl\": [{\"marker\": {\"colorbar\": {\"outlinewidth\": 0, \"ticks\": \"\"}}, \"type\": \"scattergl\"}], \"scattermapbox\": [{\"marker\": {\"colorbar\": {\"outlinewidth\": 0, \"ticks\": \"\"}}, \"type\": \"scattermapbox\"}], \"scatterpolar\": [{\"marker\": {\"colorbar\": {\"outlinewidth\": 0, \"ticks\": \"\"}}, \"type\": \"scatterpolar\"}], \"scatterpolargl\": [{\"marker\": {\"colorbar\": {\"outlinewidth\": 0, \"ticks\": \"\"}}, \"type\": \"scatterpolargl\"}], \"scatterternary\": [{\"marker\": {\"colorbar\": {\"outlinewidth\": 0, \"ticks\": \"\"}}, \"type\": \"scatterternary\"}], \"surface\": [{\"colorbar\": {\"outlinewidth\": 0, \"ticks\": \"\"}, \"colorscale\": [[0.0, \"#0d0887\"], [0.1111111111111111, \"#46039f\"], [0.2222222222222222, \"#7201a8\"], [0.3333333333333333, \"#9c179e\"], [0.4444444444444444, \"#bd3786\"], [0.5555555555555556, \"#d8576b\"], [0.6666666666666666, \"#ed7953\"], [0.7777777777777778, \"#fb9f3a\"], [0.8888888888888888, \"#fdca26\"], [1.0, \"#f0f921\"]], \"type\": \"surface\"}], \"table\": [{\"cells\": {\"fill\": {\"color\": \"#EBF0F8\"}, \"line\": {\"color\": \"white\"}}, \"header\": {\"fill\": {\"color\": \"#C8D4E3\"}, \"line\": {\"color\": \"white\"}}, \"type\": \"table\"}]}, \"layout\": {\"annotationdefaults\": {\"arrowcolor\": \"#2a3f5f\", \"arrowhead\": 0, \"arrowwidth\": 1}, \"autotypenumbers\": \"strict\", \"coloraxis\": {\"colorbar\": {\"outlinewidth\": 0, \"ticks\": \"\"}}, \"colorscale\": {\"diverging\": [[0, \"#8e0152\"], [0.1, \"#c51b7d\"], [0.2, \"#de77ae\"], [0.3, \"#f1b6da\"], [0.4, \"#fde0ef\"], [0.5, \"#f7f7f7\"], [0.6, \"#e6f5d0\"], [0.7, \"#b8e186\"], [0.8, \"#7fbc41\"], [0.9, \"#4d9221\"], [1, \"#276419\"]], \"sequential\": [[0.0, \"#0d0887\"], [0.1111111111111111, \"#46039f\"], [0.2222222222222222, \"#7201a8\"], [0.3333333333333333, \"#9c179e\"], [0.4444444444444444, \"#bd3786\"], [0.5555555555555556, \"#d8576b\"], [0.6666666666666666, \"#ed7953\"], [0.7777777777777778, \"#fb9f3a\"], [0.8888888888888888, \"#fdca26\"], [1.0, \"#f0f921\"]], \"sequentialminus\": [[0.0, \"#0d0887\"], [0.1111111111111111, \"#46039f\"], [0.2222222222222222, \"#7201a8\"], [0.3333333333333333, \"#9c179e\"], [0.4444444444444444, \"#bd3786\"], [0.5555555555555556, \"#d8576b\"], [0.6666666666666666, \"#ed7953\"], [0.7777777777777778, \"#fb9f3a\"], [0.8888888888888888, \"#fdca26\"], [1.0, \"#f0f921\"]]}, \"colorway\": [\"#636efa\", \"#EF553B\", \"#00cc96\", \"#ab63fa\", \"#FFA15A\", \"#19d3f3\", \"#FF6692\", \"#B6E880\", \"#FF97FF\", \"#FECB52\"], \"font\": {\"color\": \"#2a3f5f\"}, \"geo\": {\"bgcolor\": \"white\", \"lakecolor\": \"white\", \"landcolor\": \"#E5ECF6\", \"showlakes\": true, \"showland\": true, \"subunitcolor\": \"white\"}, \"hoverlabel\": {\"align\": \"left\"}, \"hovermode\": \"closest\", \"mapbox\": {\"style\": \"light\"}, \"paper_bgcolor\": \"white\", \"plot_bgcolor\": \"#E5ECF6\", \"polar\": {\"angularaxis\": {\"gridcolor\": \"white\", \"linecolor\": \"white\", \"ticks\": \"\"}, \"bgcolor\": \"#E5ECF6\", \"radialaxis\": {\"gridcolor\": \"white\", \"linecolor\": \"white\", \"ticks\": \"\"}}, \"scene\": {\"xaxis\": {\"backgroundcolor\": \"#E5ECF6\", \"gridcolor\": \"white\", \"gridwidth\": 2, \"linecolor\": \"white\", \"showbackground\": true, \"ticks\": \"\", \"zerolinecolor\": \"white\"}, \"yaxis\": {\"backgroundcolor\": \"#E5ECF6\", \"gridcolor\": \"white\", \"gridwidth\": 2, \"linecolor\": \"white\", \"showbackground\": true, \"ticks\": \"\", \"zerolinecolor\": \"white\"}, \"zaxis\": {\"backgroundcolor\": \"#E5ECF6\", \"gridcolor\": \"white\", \"gridwidth\": 2, \"linecolor\": \"white\", \"showbackground\": true, \"ticks\": \"\", \"zerolinecolor\": \"white\"}}, \"shapedefaults\": {\"line\": {\"color\": \"#2a3f5f\"}}, \"ternary\": {\"aaxis\": {\"gridcolor\": \"white\", \"linecolor\": \"white\", \"ticks\": \"\"}, \"baxis\": {\"gridcolor\": \"white\", \"linecolor\": \"white\", \"ticks\": \"\"}, \"bgcolor\": \"#E5ECF6\", \"caxis\": {\"gridcolor\": \"white\", \"linecolor\": \"white\", \"ticks\": \"\"}}, \"title\": {\"x\": 0.05}, \"xaxis\": {\"automargin\": true, \"gridcolor\": \"white\", \"linecolor\": \"white\", \"ticks\": \"\", \"title\": {\"standoff\": 15}, \"zerolinecolor\": \"white\", \"zerolinewidth\": 2}, \"yaxis\": {\"automargin\": true, \"gridcolor\": \"white\", \"linecolor\": \"white\", \"ticks\": \"\", \"title\": {\"standoff\": 15}, \"zerolinecolor\": \"white\", \"zerolinewidth\": 2}}}, \"width\": 1000, \"xaxis\": {\"anchor\": \"y\", \"domain\": [0.0, 1.0], \"title\": {\"text\": \"condition\"}}, \"yaxis\": {\"anchor\": \"x\", \"domain\": [0.0, 1.0], \"title\": {\"text\": \"n_peaks\"}}},                        {\"responsive\": true}                    ).then(function(){\n",
       "                            \n",
       "var gd = document.getElementById('f3f3c899-4443-46b3-91fd-0f032cb20522');\n",
       "var x = new MutationObserver(function (mutations, observer) {{\n",
       "        var display = window.getComputedStyle(gd).display;\n",
       "        if (!display || display === 'none') {{\n",
       "            console.log([gd, 'removed!']);\n",
       "            Plotly.purge(gd);\n",
       "            observer.disconnect();\n",
       "        }}\n",
       "}});\n",
       "\n",
       "// Listen for the removal of the full notebook cells\n",
       "var notebookContainer = gd.closest('#notebook-container');\n",
       "if (notebookContainer) {{\n",
       "    x.observe(notebookContainer, {childList: true});\n",
       "}}\n",
       "\n",
       "// Listen for the clearing of the current output cell\n",
       "var outputEl = gd.closest('.output');\n",
       "if (outputEl) {{\n",
       "    x.observe(outputEl, {childList: true});\n",
       "}}\n",
       "\n",
       "                        })                };                });            </script>        </div>"
      ]
     },
     "metadata": {},
     "output_type": "display_data"
    }
   ],
   "source": [
    "import plotly.express as px\n",
    "\n",
    "x_axis = \"condition\"\n",
    "y_axis = \"n_peaks\"\n",
    "marker_color = \"height.median\"\n",
    "marker_size = 'decay_no_isol'\n",
    "\n",
    "fig = px.scatter(df_estimators[df_estimators.neuronID<50], x=x_axis, y=y_axis, color=marker_color,\n",
    "                 size=marker_size,width=1000, height=600)\n",
    "#fig.write_image(\"n_peaks_scatter_interactive.eps\")\n",
    "#fig.write_image(\"n_peaks_scatter_interactive.png\")\n",
    "fig.show()"
   ]
  },
  {
   "cell_type": "code",
   "execution_count": null,
   "metadata": {},
   "outputs": [],
   "source": []
  }
 ],
 "metadata": {
  "kernelspec": {
   "display_name": "Python 3",
   "language": "python",
   "name": "python3"
  },
  "language_info": {
   "codemirror_mode": {
    "name": "ipython",
    "version": 3
   },
   "file_extension": ".py",
   "mimetype": "text/x-python",
   "name": "python",
   "nbconvert_exporter": "python",
   "pygments_lexer": "ipython3",
   "version": "3.8.5"
  }
 },
 "nbformat": 4,
 "nbformat_minor": 2
}
